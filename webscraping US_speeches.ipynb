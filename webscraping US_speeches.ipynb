{
 "cells": [
  {
   "cell_type": "code",
   "execution_count": 22,
   "metadata": {
    "collapsed": true
   },
   "outputs": [],
   "source": [
    "# import required modules\n",
    "import requests\n",
    "from bs4 import BeautifulSoup\n",
    "from datetime import datetime\n",
    "import time\n",
    "import re\n",
    "import sys\n",
    "import numpy as np\n",
    "from datascience import *\n",
    "from string import punctuation\n",
    "from scipy.stats import pearsonr\n",
    "\n",
    "%matplotlib inline\n",
    "import matplotlib.pyplot as plots\n",
    "plots.style.use('fivethirtyeight')\n",
    "\n",
    "# Configure for presentation\n",
    "np.set_printoptions(threshold=50, linewidth=50)\n",
    "import matplotlib as mpl\n",
    "mpl.rc('font', size=16)"
   ]
  },
  {
   "cell_type": "markdown",
   "metadata": {},
   "source": [
    "## Getting links to all speeches"
   ]
  },
  {
   "cell_type": "code",
   "execution_count": 2,
   "metadata": {
    "collapsed": true
   },
   "outputs": [],
   "source": [
    "overview_link = \"http://www.presidency.ucsb.edu/sou.php\""
   ]
  },
  {
   "cell_type": "code",
   "execution_count": 3,
   "metadata": {
    "collapsed": true
   },
   "outputs": [],
   "source": [
    "# Getting overview page into soup-format\n",
    "req = requests.get(overview_link)\n",
    "src = req.text\n",
    "soup = BeautifulSoup(src, 'lxml')"
   ]
  },
  {
   "cell_type": "code",
   "execution_count": 4,
   "metadata": {
    "collapsed": true
   },
   "outputs": [],
   "source": [
    "# Creating a list of all the links to state of the union speeches\n",
    "links = []\n",
    "for x in soup.findAll('td', {\"class\": \"ver12\"}):\n",
    "  link = x.find('a', href=True)\n",
    "  if not link: continue\n",
    "  link = link[\"href\"]\n",
    "  if link.find('#') < 0: links.append(link)"
   ]
  },
  {
   "cell_type": "code",
   "execution_count": 5,
   "metadata": {},
   "outputs": [
    {
     "data": {
      "text/plain": [
       "['http://www.presidency.ucsb.edu/ws/index.php?pid=123408',\n",
       " 'http://www.presidency.ucsb.edu/ws/index.php?pid=102826',\n",
       " 'http://www.presidency.ucsb.edu/ws/index.php?pid=104596',\n",
       " 'http://www.presidency.ucsb.edu/ws/index.php?pid=108031',\n",
       " 'http://www.presidency.ucsb.edu/ws/index.php?pid=111174',\n",
       " 'http://www.presidency.ucsb.edu/ws/index.php?pid=85753',\n",
       " 'http://www.presidency.ucsb.edu/ws/index.php?pid=87433',\n",
       " 'http://www.presidency.ucsb.edu/ws/index.php?pid=88928',\n",
       " 'http://www.presidency.ucsb.edu/ws/index.php?pid=99000',\n",
       " 'http://www.presidency.ucsb.edu/ws/index.php?pid=58746',\n",
       " 'http://www.presidency.ucsb.edu/ws/index.php?pid=65090',\n",
       " 'http://www.presidency.ucsb.edu/ws/index.php?pid=24446',\n",
       " 'http://www.presidency.ucsb.edu/ws/index.php?pid=76301',\n",
       " 'http://www.presidency.ucsb.edu/ws/index.php?pid=29643',\n",
       " 'http://www.presidency.ucsb.edu/ws/index.php?pid=29644',\n",
       " 'http://www.presidency.ucsb.edu/ws/index.php?pid=29645',\n",
       " 'http://www.presidency.ucsb.edu/ws/index.php?pid=29646',\n",
       " 'http://www.presidency.ucsb.edu/ws/index.php?pid=53358',\n",
       " 'http://www.presidency.ucsb.edu/ws/index.php?pid=56280',\n",
       " 'http://www.presidency.ucsb.edu/ws/index.php?pid=57577',\n",
       " 'http://www.presidency.ucsb.edu/ws/index.php?pid=58708',\n",
       " 'http://www.presidency.ucsb.edu/ws/index.php?pid=47232',\n",
       " 'http://www.presidency.ucsb.edu/ws/index.php?pid=50409',\n",
       " 'http://www.presidency.ucsb.edu/ws/index.php?pid=51634',\n",
       " 'http://www.presidency.ucsb.edu/ws/index.php?pid=53091',\n",
       " 'http://www.presidency.ucsb.edu/ws/index.php?pid=16660',\n",
       " 'http://www.presidency.ucsb.edu/ws/index.php?pid=18095',\n",
       " 'http://www.presidency.ucsb.edu/ws/index.php?pid=19253',\n",
       " 'http://www.presidency.ucsb.edu/ws/index.php?pid=20544',\n",
       " 'http://www.presidency.ucsb.edu/ws/index.php?pid=38069',\n",
       " 'http://www.presidency.ucsb.edu/ws/index.php?pid=36646',\n",
       " 'http://www.presidency.ucsb.edu/ws/index.php?pid=34430',\n",
       " 'http://www.presidency.ucsb.edu/ws/index.php?pid=36035',\n",
       " 'http://www.presidency.ucsb.edu/ws/index.php?pid=43425',\n",
       " 'http://www.presidency.ucsb.edu/ws/index.php?pid=42687',\n",
       " 'http://www.presidency.ucsb.edu/ws/index.php?pid=41698',\n",
       " 'http://www.presidency.ucsb.edu/ws/index.php?pid=40205',\n",
       " 'http://www.presidency.ucsb.edu/ws/index.php?pid=30856',\n",
       " 'http://www.presidency.ucsb.edu/ws/index.php?pid=32657',\n",
       " 'http://www.presidency.ucsb.edu/ws/index.php?pid=33079',\n",
       " 'http://www.presidency.ucsb.edu/ws/index.php?pid=44541',\n",
       " 'http://www.presidency.ucsb.edu/ws/index.php?pid=30867',\n",
       " 'http://www.presidency.ucsb.edu/ws/index.php?pid=32735',\n",
       " 'http://www.presidency.ucsb.edu/ws/index.php?pid=33062',\n",
       " 'http://www.presidency.ucsb.edu/ws/index.php?pid=44541',\n",
       " 'http://www.presidency.ucsb.edu/ws/index.php?pid=4938',\n",
       " 'http://www.presidency.ucsb.edu/ws/index.php?pid=5677',\n",
       " 'http://www.presidency.ucsb.edu/ws/index.php?pid=5555',\n",
       " 'http://www.presidency.ucsb.edu/ws/index.php?pid=4327',\n",
       " 'http://www.presidency.ucsb.edu/ws/index.php?pid=4328',\n",
       " 'http://www.presidency.ucsb.edu/ws/index.php?pid=2921',\n",
       " 'http://www.presidency.ucsb.edu/ws/index.php?pid=3110',\n",
       " 'http://www.presidency.ucsb.edu/ws/index.php?pid=3396',\n",
       " 'http://www.presidency.ucsb.edu/ws/index.php?pid=3407',\n",
       " 'http://www.presidency.ucsb.edu/ws/index.php?pid=26907',\n",
       " 'http://www.presidency.ucsb.edu/ws/index.php?pid=28015',\n",
       " 'http://www.presidency.ucsb.edu/ws/index.php?pid=28338',\n",
       " 'http://www.presidency.ucsb.edu/ws/index.php?pid=28738',\n",
       " 'http://www.presidency.ucsb.edu/ws/index.php?pid=29333',\n",
       " 'http://www.presidency.ucsb.edu/ws/index.php?pid=26787',\n",
       " 'http://www.presidency.ucsb.edu/ws/index.php?pid=8045',\n",
       " 'http://www.presidency.ucsb.edu/ws/index.php?pid=9082',\n",
       " 'http://www.presidency.ucsb.edu/ws/index.php?pid=9138',\n",
       " 'http://www.presidency.ucsb.edu/ws/index.php?pid=11029',\n",
       " 'http://www.presidency.ucsb.edu/ws/index.php?pid=11162',\n",
       " 'http://www.presidency.ucsb.edu/ws/index.php?pid=11685',\n",
       " 'http://www.presidency.ucsb.edu/ws/index.php?pid=12061',\n",
       " 'http://www.presidency.ucsb.edu/ws/index.php?pid=12074',\n",
       " 'http://www.presidency.ucsb.edu/ws/index.php?pid=12074',\n",
       " 'http://www.presidency.ucsb.edu/ws/index.php?pid=9829',\n",
       " 'http://www.presidency.ucsb.edu/ws/index.php?pid=10096',\n",
       " 'http://www.presidency.ucsb.edu/ws/index.php?pid=10416',\n",
       " 'http://www.presidency.ucsb.edu/ws/index.php?pid=10704',\n",
       " 'http://www.presidency.ucsb.edu/ws/index.php?pid=10593',\n",
       " 'http://www.presidency.ucsb.edu/ws/index.php?pid=13293',\n",
       " 'http://www.presidency.ucsb.edu/ws/index.php?pid=13567',\n",
       " 'http://www.presidency.ucsb.edu/ws/index.php?pid=14017',\n",
       " 'http://www.presidency.ucsb.edu/ws/index.php?pid=14418',\n",
       " 'http://www.presidency.ucsb.edu/ws/index.php?pid=14379',\n",
       " 'http://www.presidency.ucsb.edu/ws/index.php?pid=14379',\n",
       " 'http://www.presidency.ucsb.edu/ws/index.php?pid=12467',\n",
       " 'http://www.presidency.ucsb.edu/ws/index.php?pid=12762',\n",
       " 'http://www.presidency.ucsb.edu/ws/index.php?pid=13005',\n",
       " 'http://www.presidency.ucsb.edu/ws/index.php?pid=12467',\n",
       " 'http://www.presidency.ucsb.edu/ws/index.php?pid=16603',\n",
       " 'http://www.presidency.ucsb.edu/ws/index.php?pid=16595',\n",
       " 'http://www.presidency.ucsb.edu/ws/index.php?pid=16092',\n",
       " 'http://www.presidency.ucsb.edu/ws/index.php?pid=16253',\n",
       " 'http://www.presidency.ucsb.edu/ws/index.php?pid=16386',\n",
       " 'http://www.presidency.ucsb.edu/ws/index.php?pid=16518',\n",
       " 'http://www.presidency.ucsb.edu/ws/index.php?pid=15336',\n",
       " 'http://www.presidency.ucsb.edu/ws/index.php?pid=15517',\n",
       " 'http://www.presidency.ucsb.edu/ws/index.php?pid=15684',\n",
       " 'http://www.presidency.ucsb.edu/ws/index.php?pid=15856',\n",
       " 'http://www.presidency.ucsb.edu/ws/index.php?pid=14683',\n",
       " 'http://www.presidency.ucsb.edu/ws/index.php?pid=14890',\n",
       " 'http://www.presidency.ucsb.edu/ws/index.php?pid=15095',\n",
       " 'http://www.presidency.ucsb.edu/ws/index.php?pid=22021',\n",
       " 'http://www.presidency.ucsb.edu/ws/index.php?pid=22458',\n",
       " 'http://www.presidency.ucsb.edu/ws/index.php?pid=22933',\n",
       " 'http://www.presidency.ucsb.edu/ws/index.php?pid=23376',\n",
       " 'http://www.presidency.ucsb.edu/ws/index.php?pid=29566',\n",
       " 'http://www.presidency.ucsb.edu/ws/index.php?pid=29567',\n",
       " 'http://www.presidency.ucsb.edu/ws/index.php?pid=29568',\n",
       " 'http://www.presidency.ucsb.edu/ws/index.php?pid=29569',\n",
       " 'http://www.presidency.ucsb.edu/ws/index.php?pid=29564',\n",
       " 'http://www.presidency.ucsb.edu/ws/index.php?pid=29565',\n",
       " 'http://www.presidency.ucsb.edu/ws/index.php?pid=29565',\n",
       " 'http://www.presidency.ucsb.edu/ws/index.php?pid=29562',\n",
       " 'http://www.presidency.ucsb.edu/ws/index.php?pid=29563',\n",
       " 'http://www.presidency.ucsb.edu/ws/index.php?pid=29558',\n",
       " 'http://www.presidency.ucsb.edu/ws/index.php?pid=29559',\n",
       " 'http://www.presidency.ucsb.edu/ws/index.php?pid=29560',\n",
       " 'http://www.presidency.ucsb.edu/ws/index.php?pid=29561',\n",
       " 'http://www.presidency.ucsb.edu/ws/index.php?pid=29554',\n",
       " 'http://www.presidency.ucsb.edu/ws/index.php?pid=29555',\n",
       " 'http://www.presidency.ucsb.edu/ws/index.php?pid=29556',\n",
       " 'http://www.presidency.ucsb.edu/ws/index.php?pid=29557',\n",
       " 'http://www.presidency.ucsb.edu/ws/index.php?pid=29550',\n",
       " 'http://www.presidency.ucsb.edu/ws/index.php?pid=29551',\n",
       " 'http://www.presidency.ucsb.edu/ws/index.php?pid=29552',\n",
       " 'http://www.presidency.ucsb.edu/ws/index.php?pid=29553',\n",
       " 'http://www.presidency.ucsb.edu/ws/index.php?pid=29546',\n",
       " 'http://www.presidency.ucsb.edu/ws/index.php?pid=29547',\n",
       " 'http://www.presidency.ucsb.edu/ws/index.php?pid=29548',\n",
       " 'http://www.presidency.ucsb.edu/ws/index.php?pid=29549',\n",
       " 'http://www.presidency.ucsb.edu/ws/index.php?pid=29542',\n",
       " 'http://www.presidency.ucsb.edu/ws/index.php?pid=29543',\n",
       " 'http://www.presidency.ucsb.edu/ws/index.php?pid=29544',\n",
       " 'http://www.presidency.ucsb.edu/ws/index.php?pid=29545',\n",
       " 'http://www.presidency.ucsb.edu/ws/index.php?pid=29538',\n",
       " 'http://www.presidency.ucsb.edu/ws/index.php?pid=29539',\n",
       " 'http://www.presidency.ucsb.edu/ws/index.php?pid=29540',\n",
       " 'http://www.presidency.ucsb.edu/ws/index.php?pid=29541',\n",
       " 'http://www.presidency.ucsb.edu/ws/index.php?pid=29534',\n",
       " 'http://www.presidency.ucsb.edu/ws/index.php?pid=29535',\n",
       " 'http://www.presidency.ucsb.edu/ws/index.php?pid=29536',\n",
       " 'http://www.presidency.ucsb.edu/ws/index.php?pid=29537',\n",
       " 'http://www.presidency.ucsb.edu/ws/index.php?pid=29530',\n",
       " 'http://www.presidency.ucsb.edu/ws/index.php?pid=29531',\n",
       " 'http://www.presidency.ucsb.edu/ws/index.php?pid=29532',\n",
       " 'http://www.presidency.ucsb.edu/ws/index.php?pid=29533',\n",
       " 'http://www.presidency.ucsb.edu/ws/index.php?pid=29526',\n",
       " 'http://www.presidency.ucsb.edu/ws/index.php?pid=29527',\n",
       " 'http://www.presidency.ucsb.edu/ws/index.php?pid=29528',\n",
       " 'http://www.presidency.ucsb.edu/ws/index.php?pid=29529',\n",
       " 'http://www.presidency.ucsb.edu/ws/index.php?pid=29522',\n",
       " 'http://www.presidency.ucsb.edu/ws/index.php?pid=29523',\n",
       " 'http://www.presidency.ucsb.edu/ws/index.php?pid=29524',\n",
       " 'http://www.presidency.ucsb.edu/ws/index.php?pid=29525',\n",
       " 'http://www.presidency.ucsb.edu/ws/index.php?pid=29518',\n",
       " 'http://www.presidency.ucsb.edu/ws/index.php?pid=29519',\n",
       " 'http://www.presidency.ucsb.edu/ws/index.php?pid=29520',\n",
       " 'http://www.presidency.ucsb.edu/ws/index.php?pid=29521',\n",
       " 'http://www.presidency.ucsb.edu/ws/index.php?pid=29514',\n",
       " 'http://www.presidency.ucsb.edu/ws/index.php?pid=29515',\n",
       " 'http://www.presidency.ucsb.edu/ws/index.php?pid=29516',\n",
       " 'http://www.presidency.ucsb.edu/ws/index.php?pid=29517',\n",
       " 'http://www.presidency.ucsb.edu/ws/index.php?pid=29510',\n",
       " 'http://www.presidency.ucsb.edu/ws/index.php?pid=29511',\n",
       " 'http://www.presidency.ucsb.edu/ws/index.php?pid=29512',\n",
       " 'http://www.presidency.ucsb.edu/ws/index.php?pid=29513',\n",
       " 'http://www.presidency.ucsb.edu/ws/index.php?pid=29506',\n",
       " 'http://www.presidency.ucsb.edu/ws/index.php?pid=29507',\n",
       " 'http://www.presidency.ucsb.edu/ws/index.php?pid=29508',\n",
       " 'http://www.presidency.ucsb.edu/ws/index.php?pid=29509',\n",
       " 'http://www.presidency.ucsb.edu/ws/index.php?pid=29502',\n",
       " 'http://www.presidency.ucsb.edu/ws/index.php?pid=29503',\n",
       " 'http://www.presidency.ucsb.edu/ws/index.php?pid=29504',\n",
       " 'http://www.presidency.ucsb.edu/ws/index.php?pid=29505',\n",
       " 'http://www.presidency.ucsb.edu/ws/index.php?pid=29498',\n",
       " 'http://www.presidency.ucsb.edu/ws/index.php?pid=29499',\n",
       " 'http://www.presidency.ucsb.edu/ws/index.php?pid=29500',\n",
       " 'http://www.presidency.ucsb.edu/ws/index.php?pid=29501',\n",
       " 'http://www.presidency.ucsb.edu/ws/index.php?pid=29494',\n",
       " 'http://www.presidency.ucsb.edu/ws/index.php?pid=29495',\n",
       " 'http://www.presidency.ucsb.edu/ws/index.php?pid=29496',\n",
       " 'http://www.presidency.ucsb.edu/ws/index.php?pid=29497',\n",
       " 'http://www.presidency.ucsb.edu/ws/index.php?pid=29491',\n",
       " 'http://www.presidency.ucsb.edu/ws/index.php?pid=29492',\n",
       " 'http://www.presidency.ucsb.edu/ws/index.php?pid=29493',\n",
       " 'http://www.presidency.ucsb.edu/ws/index.php?pid=29490',\n",
       " 'http://www.presidency.ucsb.edu/ws/index.php?pid=29490',\n",
       " 'http://www.presidency.ucsb.edu/ws/index.php?pid=29486',\n",
       " 'http://www.presidency.ucsb.edu/ws/index.php?pid=29487',\n",
       " 'http://www.presidency.ucsb.edu/ws/index.php?pid=29488',\n",
       " 'http://www.presidency.ucsb.edu/ws/index.php?pid=29489',\n",
       " 'http://www.presidency.ucsb.edu/ws/index.php?pid=29483',\n",
       " 'http://www.presidency.ucsb.edu/ws/index.php?pid=29484',\n",
       " 'http://www.presidency.ucsb.edu/ws/index.php?pid=29647',\n",
       " 'http://www.presidency.ucsb.edu/ws/index.php?pid=29485',\n",
       " 'http://www.presidency.ucsb.edu/ws/index.php?pid=29479',\n",
       " 'http://www.presidency.ucsb.edu/ws/index.php?pid=29480',\n",
       " 'http://www.presidency.ucsb.edu/ws/index.php?pid=29481',\n",
       " 'http://www.presidency.ucsb.edu/ws/index.php?pid=29482',\n",
       " 'http://www.presidency.ucsb.edu/ws/index.php?pid=29475',\n",
       " 'http://www.presidency.ucsb.edu/ws/index.php?pid=29476',\n",
       " 'http://www.presidency.ucsb.edu/ws/index.php?pid=29477',\n",
       " 'http://www.presidency.ucsb.edu/ws/index.php?pid=29478',\n",
       " 'http://www.presidency.ucsb.edu/ws/index.php?pid=29471',\n",
       " 'http://www.presidency.ucsb.edu/ws/index.php?pid=29472',\n",
       " 'http://www.presidency.ucsb.edu/ws/index.php?pid=29473',\n",
       " 'http://www.presidency.ucsb.edu/ws/index.php?pid=29474',\n",
       " 'http://www.presidency.ucsb.edu/ws/index.php?pid=29467',\n",
       " 'http://www.presidency.ucsb.edu/ws/index.php?pid=29468',\n",
       " 'http://www.presidency.ucsb.edu/ws/index.php?pid=29469',\n",
       " 'http://www.presidency.ucsb.edu/ws/index.php?pid=29470',\n",
       " 'http://www.presidency.ucsb.edu/ws/index.php?pid=29463',\n",
       " 'http://www.presidency.ucsb.edu/ws/index.php?pid=29464',\n",
       " 'http://www.presidency.ucsb.edu/ws/index.php?pid=29465',\n",
       " 'http://www.presidency.ucsb.edu/ws/index.php?pid=29466',\n",
       " 'http://www.presidency.ucsb.edu/ws/index.php?pid=29459',\n",
       " 'http://www.presidency.ucsb.edu/ws/index.php?pid=29460',\n",
       " 'http://www.presidency.ucsb.edu/ws/index.php?pid=29461',\n",
       " 'http://www.presidency.ucsb.edu/ws/index.php?pid=29462',\n",
       " 'http://www.presidency.ucsb.edu/ws/index.php?pid=29455',\n",
       " 'http://www.presidency.ucsb.edu/ws/index.php?pid=29456',\n",
       " 'http://www.presidency.ucsb.edu/ws/index.php?pid=29457',\n",
       " 'http://www.presidency.ucsb.edu/ws/index.php?pid=29458',\n",
       " 'http://www.presidency.ucsb.edu/ws/index.php?pid=29451',\n",
       " 'http://www.presidency.ucsb.edu/ws/index.php?pid=29452',\n",
       " 'http://www.presidency.ucsb.edu/ws/index.php?pid=29453',\n",
       " 'http://www.presidency.ucsb.edu/ws/index.php?pid=29454',\n",
       " 'http://www.presidency.ucsb.edu/ws/index.php?pid=29447',\n",
       " 'http://www.presidency.ucsb.edu/ws/index.php?pid=29448',\n",
       " 'http://www.presidency.ucsb.edu/ws/index.php?pid=29449',\n",
       " 'http://www.presidency.ucsb.edu/ws/index.php?pid=29450',\n",
       " 'http://www.presidency.ucsb.edu/ws/index.php?pid=29443',\n",
       " 'http://www.presidency.ucsb.edu/ws/index.php?pid=29444',\n",
       " 'http://www.presidency.ucsb.edu/ws/index.php?pid=29445',\n",
       " 'http://www.presidency.ucsb.edu/ws/index.php?pid=29446',\n",
       " 'http://www.presidency.ucsb.edu/ws/index.php?pid=29439',\n",
       " 'http://www.presidency.ucsb.edu/ws/index.php?pid=29440',\n",
       " 'http://www.presidency.ucsb.edu/ws/index.php?pid=29441',\n",
       " 'http://www.presidency.ucsb.edu/ws/index.php?pid=29442',\n",
       " 'http://www.presidency.ucsb.edu/ws/index.php?pid=29435',\n",
       " 'http://www.presidency.ucsb.edu/ws/index.php?pid=29436',\n",
       " 'http://www.presidency.ucsb.edu/ws/index.php?pid=29437',\n",
       " 'http://www.presidency.ucsb.edu/ws/index.php?pid=29438',\n",
       " 'http://www.presidency.ucsb.edu/ws/index.php?pid=29431',\n",
       " 'http://www.presidency.ucsb.edu/ws/index.php?pid=29432',\n",
       " 'http://www.presidency.ucsb.edu/ws/index.php?pid=29433',\n",
       " 'http://www.presidency.ucsb.edu/ws/index.php?pid=29434']"
      ]
     },
     "execution_count": 5,
     "metadata": {},
     "output_type": "execute_result"
    }
   ],
   "source": [
    "# List of alle the relevant links\n",
    "links"
   ]
  },
  {
   "cell_type": "markdown",
   "metadata": {},
   "source": [
    "## Building Scraper functions"
   ]
  },
  {
   "cell_type": "code",
   "execution_count": 6,
   "metadata": {
    "collapsed": true
   },
   "outputs": [],
   "source": [
    "# Building scraper function that takes a link and return a list with the following elements 1) name, 2) year 3)date 4)speech text \n",
    "def scrape_speech(url):\n",
    "    req = requests.get(url)\n",
    "    src = req.text\n",
    "    soup = BeautifulSoup(src, 'lxml')\n",
    "      \n",
    "    name = soup.find('title').get_text().split(\":\")[0]\n",
    "    date_and_year = soup.find('span', {\"class\": \"docdate\"}).get_text()\n",
    "    year = date_and_year.split(\",\")[1].strip(\" \")\n",
    "    date = date_and_year.split(\",\")[0]\n",
    "    rawtext = soup.find('span', {\"class\": \"displaytext\"}).get_text()\n",
    "    \n",
    "    speech_data = [name, year, date, rawtext]\n",
    "    return speech_data"
   ]
  },
  {
   "cell_type": "code",
   "execution_count": 7,
   "metadata": {},
   "outputs": [
    {
     "data": {
      "text/plain": [
       "['Donald J. Trump',\n",
       " '2017',\n",
       " 'February 28',\n",
       " 'Thank you very much. Mr. Speaker, Mr. Vice President, Members of Congress, the First Lady of the United States, and citizens of America: Tonight, as we mark the conclusion of our celebration of Black History Month, we are reminded of our Nation\\'s path towards civil rights and the work that still remains to be done. Recent threats targeting Jewish community centers and vandalism of Jewish cemeteries, as well as last week\\'s shooting in Kansas City, remind us that while we may be a nation divided on policies, we are a country that stands united in condemning hate and evil in all of its very ugly forms. Each American generation passes the torch of truth, liberty, and justice in an unbroken chain, all the way down to the present. That torch is now in our hands, and we will use it to light up the world. I am here tonight to deliver a message of unity and strength, and it is a message deeply delivered from my heart. A new chapter of American greatness is now beginning. A new national pride is sweeping across our Nation. And a new surge of optimism is placing impossible dreams firmly within our grasp. What we are witnessing today is the renewal of the American spirit. Our allies will find that America is once again ready to lead. All the nations of the world—friend or foe—will find that America is strong, America is proud, and America is free. In 9 years, the United States will celebrate the 250th anniversary of our founding: 250 years since the day we declared our independence. It will be one of the great milestones in the history of the world. But what will America look like as we reach our 250th year? What kind of country will we leave for our children? I will not allow the mistakes of recent decades past to define the course of our future. For too long, we\\'ve watched our middle class shrink as we\\'ve exported our jobs and wealth to foreign countries. We\\'ve financed and built one global project after another, but ignored the fates of our children in the inner cities of Chicago, Baltimore, Detroit, and so many other places throughout our land. We\\'ve defended the borders of other nations, while leaving our own borders wide open for anyone to cross and for drugs to pour in at a now unprecedented rate. And we\\'ve spent trillions and trillions of dollars overseas, while our infrastructure at home has so badly crumbled. Then, in 2016, the Earth shifted beneath our feet. The rebellion started as a quiet protest, spoken by families of all colors and creeds, families who just wanted a fair shot for their children and a fair hearing for their concerns. But then the quiet voices became a loud chorus, as thousands of citizens now spoke out together, from cities small and large, all across our country. Finally, the chorus became an earthquake, and the people turned out by the tens of millions, and they were all united by one very simple, but crucial demand: that America must put its own citizens first. Because only then can we truly make America great again. Dying industries will come roaring back to life. Heroic veterans will get the care they so desperately need. Our military will be given the resources its brave warriors so richly deserve. Crumbling infrastructure will be replaced with new roads, bridges, tunnels, airports, and railways gleaming across our very, very beautiful land. Our terrible drug epidemic will slow down and, ultimately, stop. And our neglected inner cities will see a rebirth of hope, safety, and opportunity. Above all else, we will keep our promises to the American people. [Applause] Thank you. It\\'s been a little over a month since my Inauguration, and I want to take this moment to update the Nation on the progress I\\'ve made in keeping those promises. Since my election, Ford, Fiat Chrysler, General Motors, Sprint, Softbank, Lockheed, Intel, Walmart, and many others have announced that they will invest billions and billions of dollars in the United States and will create tens of thousands of new American jobs. The stock market has gained almost $3 trillion in value since the election on November 8—a record. We\\'ve saved taxpayers hundreds of millions of dollars by bringing down the price of fantastic—and it is a fantastic—new F-35 jet fighter, and we\\'ll be saving billions more on contracts all across our Government. We have placed a hiring freeze on nonmilitary and nonessential Federal workers. We have begun to drain the swamp of government corruption by imposing a 5-year ban on lobbying by executive branch officials and a lifetime ban—[applause]—thank you. Thank you. And a lifetime ban on becoming lobbyists for a foreign government. We have undertaken a historic effort to massively reduce job-crushing regulations, creating a deregulation Task Force inside of every Government agency. And we\\'re imposing a new rule which mandates that for every one new regulation, two old regulations must be eliminated. We\\'re going to stop the regulations that threaten the future and livelihood of our great coal miners. We have cleared the way for the construction of the Keystone and Dakota Access pipelines, thereby creating tens of thousands of jobs. And I\\'ve issued a new directive that new American pipelines be made with American steel. We have withdrawn the United States from the job-killing Trans-Pacific Partnership. And with the help of Prime Minister Justin Trudeau, we have formed a council with our neighbors in Canada to help ensure that women entrepreneurs have access to the networks, markets, and capital they need to start a business and live out their financial dreams. To protect our citizens, I have directed the Department of Justice to form a Task Force on Reducing Violent Crime. I have further ordered the Departments of Homeland Security and Justice, along with the Department of State and the Director of National Intelligence, to coordinate an aggressive strategy to dismantle the criminal cartels that have spread all across our Nation. We will stop the drugs from pouring into our country and poisoning our youth, and we will expand treatment for those who have become so badly addicted. At the same time, my administration has answered the pleas of the American people for immigration enforcement and border security. By finally enforcing our immigration laws, we will raise wages, help the unemployed, save billions and billions of dollars, and make our communities safer for everyone. We want all Americans to succeed, but that can\\'t happen in an environment of lawless chaos. We must restore integrity and the rule of law at our borders. For that reason, we will soon begin the construction of a great, great wall along our southern border. As we speak tonight, we are removing gang members, drug dealers, and criminals that threaten our communities and prey on our very innocent citizens. Bad ones are going out as I speak, and as I\\'ve promised throughout the campaign. To any in Congress who do not believe we should enforce our laws, I would ask you this one question: What would you say to the American family that loses their jobs, their income, or their loved one because America refused to uphold its laws and defend its borders? Our obligation is to serve, protect, and defend the citizens of the United States. We are also taking strong measures to protect our Nation from radical Islamic terrorism. According to data provided by the Department of Justice, the vast majority of individuals convicted of terrorism and terrorism-related offenses since 9/11 came here from outside of our country. We have seen the attacks at home, from Boston to San Bernardino to the Pentagon, and, yes, even the World Trade Center. We have seen the attacks in France, in Belgium, in Germany, and all over the world. It is not compassionate, but reckless to allow uncontrolled entry from places where proper vetting cannot occur. Those given the high honor of admission to the United States should support this country and love its people and its values. We cannot allow a beachhead of terrorism to form inside America. We cannot allow our Nation to become a sanctuary for extremists. That is why my administration has been working on improved vetting procedures, and we will shortly take new steps to keep our Nation safe and to keep those out who will do us harm. As promised, I directed the Department of Defense to develop a plan to demolish and destroy ISIS, a network of lawless savages that have slaughtered Muslims and Christians, and men and women and children of all faiths and all beliefs. We will work with our allies, including our friends and allies in the Muslim world, to extinguish this vile enemy from our planet. I have also imposed new sanctions on entities and individuals who support Iran\\'s ballistic missile program and reaffirmed our unbreakable alliance with the State of Israel. Finally, I have kept my promise to appoint a Justice to the United States Supreme Court, from my list of 20 judges, who will defend our Constitution. I am greatly honored to have Maureen Scalia with us in the gallery tonight. Thank you, Maureen. Her late, great husband, Antonin Scalia, will forever be a symbol of American justice. To fill his seat, we have chosen Judge Neil Gorsuch, a man of incredible skill and deep devotion to the law. He was confirmed unanimously by the Court of Appeals, and I am asking the Senate to swiftly approve his nomination. Tonight, as I outline the next steps we must take as a country, we must honestly acknowledge the circumstances we inherited. Ninety-four million Americans are out of the labor force. Over 43 million people are now living in poverty, and over 43 million Americans are on food stamps. More than 1 in 5 people in their prime working years are not working. We have the worst financial recovery in 65 years. In the last 8 years, the past administration has put on more new debt than nearly all of the other Presidents combined. We\\'ve lost more than one-fourth of our manufacturing jobs since NAFTA was approved, and we\\'ve lost 60,000 factories since China joined the World Trade Organization in 2001. Our trade deficit in goods with the world last year was nearly $800 billion dollars. And overseas we have inherited a series of tragic foreign policy disasters. Solving these and so many other pressing problems will require us to work past the differences of party. It will require us to tap into the American spirit that has overcome every challenge throughout our long and storied history. But to accomplish our goals at home and abroad, we must restart the engine of the American economy, making it easier for companies to do business in the United States, and much, much harder for companies to leave our country. Right now American companies are taxed at one of the highest rates anywhere in the world. My economic team is developing historic tax reform that will reduce the tax rate on our companies so they can compete and thrive anywhere and with anyone. It will be a big, big cut. At the same time, we will provide massive tax relief for the middle class. We must create a level playing field for American companies and our workers—have to do it. Currently, when we ship products out of America, many other countries make us pay very high tariffs and taxes. But when foreign companies ship their products into America, we charge them nothing, or almost nothing. I just met with officials and workers from a great American company, Harley-Davidson. In fact, they proudly displayed five of their magnificent motorcycles, made in the U.S.A., on the front lawn of the White House. [Laughter] And they wanted me to ride one, and I said, \"No, thank you.\" [Laughter] At our meeting, I asked them, how are you doing, how is business? They said that it\\'s good. I asked them further, how are you doing with other countries, mainly international sales? They told me—without even complaining, because they have been so mistreated for so long that they\\'ve become used to it—that it\\'s very hard to do business with other countries because they tax our goods at such a high rate. They said that in the case of another country, they taxed their motorcycles at 100 percent. They weren\\'t even asking for a change. But I am. I believe strongly in free trade, but it also has to be fair trade. It\\'s been a long time since we had fair trade. The first Republican President, Abraham Lincoln, warned that the \"abandonment of the protective policy by the American Government will produce want and ruin among our people.\" Lincoln was right, and it\\'s time we heeded his advice and his words. I am not going to let America and its great companies and workers be taken advantage of us any longer. They have taken advantage of our country. No longer. I am going to bring back millions of jobs. Protecting our workers also means reforming our system of legal immigration. The current, outdated system depresses wages for our poorest workers and puts great pressure on taxpayers. Nations around the world like Canada, Australia, and many others, have a merit-based immigration system. It\\'s a basic principle that those seeking to enter a country ought to be able to support themselves financially. Yet, in America, we do not enforce this rule, straining the very public resources that our poorest citizens rely upon. According to the National Academy of Sciences, our current immigration system costs American taxpayers many billions of dollars a year. Switching away from this current system of lower skilled immigration, and instead adopting a merit-based system, we will have so many more benefits. It will save countless dollars, raise workers\\' wages, and help struggling families—including immigrant families—enter the middle class. And they will do it quickly, and they will be very, very happy, indeed. I believe that real and positive immigration reform is possible, as long as we focus on the following goals: to improve jobs and wages for Americans, to strengthen our Nation\\'s security, and to restore respect for our laws. If we are guided by the wellbeing of American citizens, then I believe Republicans and Democrats can work together to achieve an outcome that has eluded our country for decades. Another Republican President, Dwight D. Eisenhower, initiated the last truly great national infrastructure program—the building of the Interstate Highway System. The time has come for a new program of national rebuilding. America has spent approximately $6 trillion in the Middle East; all the while, our infrastructure at home is crumbling. With this $6 trillion, we could have rebuilt our country twice, and maybe even three times if we had people who had the ability to negotiate. [Laughter] To launch our national rebuilding, I will be asking Congress to approve legislation that produces a $1 trillion investment in infrastructure of the United States—financed through both public and private capital—creating millions of new jobs. This effort will be guided by two core principles: buy American and hire American. Tonight I am also calling on this Congress to repeal and replace Obamacare with reforms that expand choice, increase access, lower costs, and at the same time, provide better health care. Mandating every American to buy Government-approved health insurance was never the right solution for our country. The way to make health insurance available to everyone is to lower the cost of health insurance, and that is what we are going do. Obamacare premiums nationwide have increased by double and triple digits. As an example, Arizona went up 116 percent last year alone. Governor Matt Bevin of Kentucky just said Obamacare is failing in his State—the State of Kentucky—and it\\'s unsustainable and collapsing. One-third of the counties have only one insurer, and they are losing them fast. They are losing them so fast. They are leaving, and many Americans have no choice at all. There\\'s no choice left. Remember when you were told that you could keep your doctor and keep your plan? We now know that all of those promises have been totally broken. Obamacare is collapsing, and we must act decisively to protect all Americans. Action is not a choice, it is a necessity. So I am calling on all Democrats and Republicans in Congress to work with us to save Americans from this imploding Obamacare disaster. Here are the principles that should guide the Congress as we move to create a better health care system for all Americans: First, we should ensure that Americans with preexisting conditions have access to coverage, and that we have a stable transition for Americans currently enrolled in the health care exchanges. Secondly, we should help Americans purchase their own coverage through the use of tax credits and expanded health savings accounts, but it must be the plan they want, not the plan forced on them by our Government. Thirdly, we should give our State Governors the resources and flexibility they need with Medicaid to make sure no one is left out. Fourth, we should implement legal reforms that protect patients and doctors from unnecessary costs that drive up the price of insurance and work to bring down the artificially high price of drugs and bring them down immediately. And finally, the time has come to give Americans the freedom to purchase health insurance across State lines, which will create a truly competitive national marketplace that will bring costs way down and provide far better care. So important. Everything that is broken in our country can be fixed. Every problem can be solved. And every hurting family can find healing and hope. Our citizens deserve this and so much more, so why not join forces and finally get the job done, and get it done right? On this and so many other things, Democrats and Republicans should get together and unite for the good of our country and for the good of the American people. My administration wants to work with members of both parties to make childcare accessible and affordable; to help ensure new parents that they have paid family leave; to invest in women\\'s health; and to promote clean air and clean water; and to rebuild our military and our infrastructure. True love for our people requires us to find common ground, to advance the common good, and to cooperate on behalf of every American child who deserves a much brighter future. An incredible young woman is with us this evening, who should serve as an inspiration to us all. Today is Rare Disease Day, and joining us in the gallery is a rare disease survivor, Megan Crowley. Megan was diagnosed with Pompe disease, a rare and serious illness, when she was 15 months old. She was not expected to live past 5. On receiving this news, Megan\\'s dad John fought with everything he had to save the life of his precious child. He founded a company to look for a cure and helped develop the drug that saved Megan\\'s life. Today she is 20 years old and a sophomore at Notre Dame. Megan\\'s story is about the unbounded power of a father\\'s love for a daughter. But our slow and burdensome approval process at the Food and Drug Administration keeps too many advances, like the one that saved Megan\\'s life, from reaching those in need. If we slash the restraints, not just at the FDA, but across our Government, then we will be blessed with far more miracles just like Megan. In fact, our children will grow up in a nation of miracles. But to achieve this future, we must enrich the mind and the souls of every American child. Education is the civil rights issue of our time. I am calling upon members of both parties to pass an education bill that funds school choice for disadvantaged youth, including millions of African American and Latino children. These families should be free to choose the public, private, charter, magnet, religious, or home school that is right for them. Joining us tonight in the gallery is a remarkable woman, Denisha Merriweather. As a young girl, Denisha struggled in school and failed third grade twice. But then, she was able to enroll in a private center for learning—great learning center—with the help of a tax credit and a scholarship program. Today, she is the first in her family to graduate, not just from high school, but from college. Later this year she will get her master\\'s degree in social work. We want all children to be able to break the cycle of poverty just like Denisha. But to break the cycle of poverty, we must also break the cycle of violence. The murder rate in 2015 experienced its largest single-year increase in nearly half a century. In Chicago, more than 4,000 people were shot last year alone, and the murder rate so far this year has been even higher. This is not acceptable in our society. Every American child should be able to grow up in a safe community, to attend a great school, and to have access to a high-paying job. But to create this future, we must work with, not against—not against—the men and women of law enforcement. We must build bridges of cooperation and trust, not drive the wedge of disunity, and really, it\\'s what it is—division. It\\'s pure, unadulterated division. We have to unify. Police and sheriffs are members of our community. They\\'re friends and neighbors, they\\'re mothers and fathers, sons and daughters, and they leave behind loved ones every day who worry about whether or not they\\'ll come home safe and sound. We must support the incredible men and women of law enforcement. And we must support the victims of crime. I have ordered the Department of Homeland Security to create an office to serve American victims. The office is called VOICE: Victims of Immigration Crime Engagement. We are providing a voice to those who have been ignored by our media and silenced by special interests. Joining us in the audience tonight are four very brave Americans whose Government failed them. Their names are Jamiel Shaw, Susan Oliver, Jenna Oliver, and Jessica Davis. Jamiel\\'s 17-year-old son was viciously murdered by an illegal immigrant gang member who had just been released from prison. Jamiel Shaw, Jr. was an incredible young man, with unlimited potential, who was getting ready to go to college where he would have excelled as a great college quarterback. But he never got the chance. His father, who is in the audience tonight, has become a very good friend of mine. Jamiel, thank you. Thank you. Also with us are Susan Oliver and Jessica Davis. Their husbands, Deputy Sheriff Danny Oliver and Detective Michael Davis, were slain in the line of duty in California. They were pillars of their community. These brave men were viciously gunned down by an illegal immigrant with a criminal record and two prior deportations. Should have never been in our country. Sitting with Susan is her daughter, Jenna. Jenna, I want you to know that your father was a hero, and that tonight you have the love of an entire country supporting you and praying for you. To Jamiel, Jenna, Susan, and Jessica: I want you to know that we will never stop fighting for justice. Your loved ones will never, ever be forgotten. We will always honor their memory. Finally, to keep America safe, we must provide the men and women of the United States military with the tools they need to prevent war. If they must, they have to fight and they only have to win. I am sending Congress a budget that rebuilds the military, eliminates the defense sequester, and calls for one of the largest increases in national defense spending in American history. My budget will also increase funding for our veterans. Our veterans have delivered for this Nation, and now we must deliver for them. The challenges we face as a nation are great, but our people are even greater. And none are greater or are braver than those who fight for America in uniform. We are blessed to be joined tonight by Carryn Owens, the widow of U.S. Navy Special Operator, Senior Chief William \"Ryan\" Owens. Ryan died as he lived: a warrior and a hero, battling against terrorism and securing our Nation. I just spoke to our great General Mattis, just now, who reconfirmed that—and I quote—\"Ryan was a part of a highly successful raid that generated large amounts of vital intelligence that will lead to many more victories in the future against our enemy.\" Ryan\\'s legacy is etched into eternity. Thank you. [Applause] And Ryan is looking down, right now—you know that—and he is very happy because I think he just broke a record. [Laughter] For as the Bible teaches us, there is no greater act of love than to lay down one\\'s life for one\\'s friends. Ryan laid down his life for his friends, for his country, and for our freedom. And we will never forget Ryan. To those allies who wonder what kind of a friend America will be, look no further than the heroes who wear our uniform. Our foreign policy calls for a direct, robust, and meaningful engagement with the world. It is American leadership based on vital security interests that we share with our allies all across the globe. We strongly support NATO, an alliance forged through the bonds of two world wars that dethroned fascism, and a cold war, and defeated communism. But our partners must meet their financial obligations. And now, based on our very strong and frank discussions, they are beginning to do just that. In fact, I can tell you, the money is pouring in. Very nice. We expect our partners—whether in NATO, the Middle East, or in the Pacific—to take a direct and meaningful role in both strategic and military operations, and pay their fair share of the cost. Have to do that. We will respect historic institutions, but we will respect the foreign rights of all nations, and they have to respect our rights as a nation also. Free nations are the best vehicle for expressing the will of the people, and America respects the right of all nations to chart their own path. My job is not to represent the world. My job is to represent the United States of America. But we know that America is better off when there is less conflict, not more. We must learn from the mistakes of the past. We have seen the war and the destruction that have ravaged and raged throughout the world—all across the world. The only long-term solution for these humanitarian disasters, in many cases, is to create the conditions where displaced persons can safely return home and begin the long, long process of rebuilding. America is willing to find new friends and to forge new partnerships where shared interests align. We want harmony and stability, not war and conflict. We want peace, wherever peace can be found. America is friends today with former enemies. Some of our closest allies, decades ago, fought on the opposite side of these terrible, terrible wars. This history should give us all faith in the possibilities for a better world. Hopefully, the 250th year for America will see a world that is more peaceful, more just, and more free. On our 100th anniversary, in 1876, citizens from across our Nation came to Philadelphia to celebrate America\\'s centennial. At that celebration, the country\\'s builders and artists and inventors showed off their wonderful creations. Alexander Graham Bell displayed his telephone for the first time. Remington unveiled the first typewriter. An early attempt was made at electric light. Thomas Edison showed an automatic telegraph and an electric pen. Imagine the wonders our country could know in America\\'s 250th year. Think of the marvels we can achieve if we simply set free the dreams of our people. Cures to the illnesses that have always plagued us are not too much to hope. American footprints on distant worlds are not too big a dream. Millions lifted from welfare to work is not too much to expect. And streets where mothers are safe from fear, schools where children learn in peace, and jobs where Americans prosper and grow are not too much to ask. When we have all of this, we will have made America greater than ever before—for all Americans. This is our vision. This is our mission. But we can only get there together. We are one people with one destiny. We all bleed the same blood. We all salute the same great American flag. And we all are made by the same God. When we fulfill this vision, when we celebrate our 250 years of glorious freedom, we will look back on tonight as when this new chapter of American greatness began. The time for small thinking is over. The time for trivial fights is behind us. We just need the courage to share the dreams that fill our hearts, the bravery to express the hopes that stir our souls, and the confidence to turn those hopes and those dreams into action. From now on, America will be empowered by our aspirations, not burdened by our fears; inspired by the future, not bound by failures of the past; and guided by our vision, not blinded by our doubts. I am asking all citizens to embrace this renewal of the American spirit. I am asking all Members of Congress to join me in dreaming big and bold, and daring things for our country. I am asking everyone watching tonight to seize this moment. Believe in yourselves, believe in your future, and believe, once more, in America. Thank you, God bless you, and God bless the United States.']"
      ]
     },
     "execution_count": 7,
     "metadata": {},
     "output_type": "execute_result"
    }
   ],
   "source": [
    "scrape_speech(links[0])"
   ]
  },
  {
   "cell_type": "code",
   "execution_count": 9,
   "metadata": {
    "collapsed": true
   },
   "outputs": [],
   "source": [
    "corpus = []\n",
    "\n",
    "for link in links:\n",
    "    speech_data = scrape_speech(link)\n",
    "    corpus.append(speech_data)\n",
    "    time.sleep(3)"
   ]
  },
  {
   "cell_type": "code",
   "execution_count": 10,
   "metadata": {},
   "outputs": [
    {
     "data": {
      "text/plain": [
       "243"
      ]
     },
     "execution_count": 10,
     "metadata": {},
     "output_type": "execute_result"
    }
   ],
   "source": [
    "len(corpus)"
   ]
  },
  {
   "cell_type": "code",
   "execution_count": 12,
   "metadata": {},
   "outputs": [
    {
     "data": {
      "text/plain": [
       "['Dwight D. Eisenhower',\n",
       " '1954',\n",
       " 'January 7',\n",
       " \"Mr. President, Mr. Speaker, Members of the Eighty-third Congress: It is a high honor again to present to the Congress my views on the state of the Union and to recommend measures to advance the security, prosperity, and well-being of the American people. All branches of this Government--and I venture to say both of our great parties--can support the general objective of the recommendations I make today, for that objective is the building of a stronger America. A nation whose every citizen has good reason for bold hope; where effort is rewarded and prosperity is shared; where freedom expands and peace is secure--that is what I mean by a stronger America. Toward this objective a real momentum has been developed during this Administration's first year in office. We mean to continue that momentum and to increase it. We mean to build a better future for this nation. Much for which we may be thankful has happened during the past year. First of all we are deeply grateful that our sons no longer die on the distant mountains of Korea. Although they are still called from our homes to military service, they are no longer called to the field of battle. The nation has just completed the most prosperous year in its history. The damaging effect of inflation on the wages, pensions, salaries and savings of us all has been brought under control. Taxes have begun to go down. The cost of our government has been reduced and its work proceeds with some 183,000 fewer employees; thus the discouraging trend of modern governments toward their own limitless expansion has in our case been reversed. The cost of armaments becomes less oppressive as we near our defense goals; yet we are militarily stronger every day. During the year, creation of the new Cabinet Department of Health, Education, and Welfare symbolized the government's permanent concern with the human problems of our citizens. Segregation in the armed forces and other Federal activities is on the way out. We have also made progress toward its elimination in the District of Columbia. These are steps in the continuing effort to eliminate inter-racial difficulty. Some developments beyond our shores have been equally encouraging. Communist aggression, halted in Korea, continues to meet in Indo-china the vigorous resistance of France and the Associated States, assisted by timely aid from our country. In West Germany, in Iran, and in other areas of the world, heartening political victories have been won by the forces of stability and freedom. Slowly but surely, the free world gathers strength. Meanwhile, from behind the iron curtain, there are signs that tyranny is in trouble and reminders that its structure is as brittle as its surface is hard. There has been in fact a great strategic change in the world during the past year. That precious intangible, the initiative, is becoming ours. Our policy, not limited to mere reaction against crises provoked by others, is free to develop along lines of our choice not only abroad, but also at home. As a major theme for American policy during the coming year, let our joint determination be to hold this new initiative and to use it. We shall use this initiative to promote three broad purposes: First, to protect the freedom of our people; second, to maintain a strong, growing economy; third, to concern ourselves with the human problems of the individual citizen. Only by active concern for each of these purposes can we be sure that we are on the forward road to a better and a stronger America. All my recommendations today are in furtherance of these three purposes. I. FOREIGN AFFAIRS American freedom is threatened so long as the world Communist conspiracy exists in its present scope, power and hostility. More closely than ever before, American freedom is interlocked with the freedom of other people. In the unity of the free world lies our best chance to reduce the Communist threat without war. In the task of maintaining this unity and strengthening all its parts, the greatest responsibility falls naturally on those who, like ourselves, retain the most freedom and strength. We shall, therefore, continue to advance the cause of freedom on foreign fronts. In the Far East, we retain our vital interest in Korea. We have negotiated with the Republic of Korea a mutual security pact, which develops our security system for the Pacific and which I shall promptly submit to the Senate for its consent to ratification. We are prepared to meet any renewal of armed aggression in Korea. We shall maintain indefinitely our bases in Okinawa. I shall ask the Congress to authorize continued material assistance to hasten the successful conclusion of the struggle in Indo-china. This assistance will also bring closer the day when the Associated States may enjoy the independence already assured by France. We shall also continue military and economic aid to the Nationalist Government of China. In South Asia, profound changes are taking place in free nations which are demonstrating their ability to progress through democratic methods. They provide an inspiring contrast to the dictatorial methods and backward course of events in Communist China. In these continuing efforts, the free peoples of South Asia can be assured of the support of the United States. In the Middle East, where tensions and serious problems exist, we will show sympathetic and impartial friendship. In Western Europe our policy rests firmly on the North Atlantic Treaty. It will remain so based as far ahead as we can see. Within its organization, the building of a united European community, including France and Germany, is vital to a free and self-reliant Europe. This will be promoted by the European Defense Community which offers assurance of European security. With the coming of unity to Western Europe, the assistance this Nation can render for the security of Europe and the free world will be multiplied in effectiveness. In the Western Hemisphere we shall continue to develop harmonious and mutually beneficial cooperation with our neighbors. Indeed, solid friendship with all our American neighbors is a cornerstone of our entire policy. In the world as a whole, the United Nations, admittedly still in a state of evolution, means much to the United States. It has given uniquely valuable services in many places where violence threatened. It is the only real world forum where we have the opportunity for international presentation and rebuttal. It is a place where the nations of the world can, if they have the will, take collective action for peace and justice. It is a place where the guilt can be squarely assigned to those who fail to take all necessary steps to keep the peace. The United Nations deserves our continued firm support. FOREIGN ASSISTANCE AND TRADE In the practical application of our foreign policy, we enter the field of foreign assistance and trade. Military assistance must be continued. Technical assistance must be maintained. Economic assistance can be reduced. However, our economic programs in Korea and in a few other critical places of the world are especially important, and I shall ask Congress to continue them in the next fiscal year. The forthcoming Budget Message will propose maintenance of the Presidential power of transferability of all assistance funds and will ask authority to merge these funds with the regular defense funds. It will also propose that the Secretary of Defense have primary responsibility for the administration of foreign military assistance in accordance with the policy guidance of the Secretary of State. The fact that we can now reduce our foreign economic assistance in many areas is gratifying evidence that its objectives are being achieved. By continuing to surpass her prewar levels of economic activity, Western Europe gains self-reliance. Thus our relationship enters a new phase which can bring results beneficial to our taxpayers and our allies alike, if still another step is taken. This step is the creation of a healthier and freer system of trade and payments within the free world--a system in which our allies can earn their own way and our own economy can continue to flourish. The free world can no longer afford the kinds of arbitrary restraints on trade that have continued ever since the war. On this problem I shall submit to the Congress detailed recommendations, after our Joint Commission on Foreign Economic Policy has made its report. ATOMIC ENERGY PROPOSAL As we maintain our military strength during the coming year and draw closer the bonds with our allies, we shall be in an improved position to discuss outstanding issues with the Soviet Union. Indeed we shall be glad to do so whenever there is a reasonable prospect of constructive results. In this spirit the atomic energy proposals of the United States were recently presented to the United Nations General Assembly. A truly constructive Soviet reaction will make possible a new start toward an era of peace, and away from the fatal road toward atomic war. DEFENSE Since our hope is peace, we owe ourselves and the world a candid explanation of the military measures we are taking to make that peace secure. As we enter this new year, our military power continues to grow. This power is for our own defense and to deter aggression. We shall not be aggressors, but we and our allies have and will maintain a massive capability to strike back. Here are some of the considerations in our defense planning: First, while determined to use atomic power to serve the usages of peace, we take into full account our great and growing number of nuclear weapons and the most effective means of using them against an aggressor if they are needed to preserve our freedom. Our defense will be stronger if, under appropriate security safeguards, we share with our allies certain knowledge of the tactical use of our nuclear weapons. I urge the Congress to provide the needed authority. Second, the usefulness of these new weapons creates new relationships between men and materials. These new relationships permit economies in the use of men as we build forces suited to our situation in the world today. As will be seen from the Budget Message on January 21, the airpower of our Navy and Air Force is receiving heavy emphasis. Third, our armed forces must regain maximum mobility of action. Our strategic reserves must be centrally placed and readily deployable to meet sudden aggression against ourselves and our allies. Fourth, our defense must rest on trained manpower and its most economical and mobile use. A professional corps is the heart of any security organization. It is necessarily the teacher and leader of those who serve temporarily in the discharge of the obligation to help defend the Republic. Pay alone will not retain in the career service of our armed forces the necessary numbers of long-term personnel. I strongly urge, therefore, a more generous use of other benefits important to service morale. Among these are more adequate living quarters and family housing units and medical care for dependents. Studies of military manpower have just been completed by the National Security Training Commission and a Committee appointed by the Director of the Office of Defense Mobilization. Evident weaknesses exist in the state of readiness and organization of our reserve forces. Measures to correct these weaknesses will be later submitted to the Congress. Fifth, the ability to convert swiftly from partial to all-out mobilization is imperative to our security. For the first time, mobilization officials know what the requirements are for 1,000 major items needed for military uses. These data, now being related to civilian requirements and our supply potential, will show us the gaps in our mobilization base. Thus we shall have more realistic plant-expansion and stockpiling goals. We shall speed their attainment. This Nation is at last to have an up-to-date mobilization base--the foundation of a sound defense program. Another part of this foundation is, of course, our continental transport system. Some of our vital heavy materials come increasingly from Canada. Indeed our relations with Canada, happily always close, involve more and more the unbreakable ties of strategic interdependence. Both nations now need the St. Lawrence Seaway for security as well as for economic reasons. I urge the Congress promptly to approve our participation in its construction. Sixth, military and non-military measures for continental defense must be and are being strengthened. In the current fiscal year we are allocating to these purposes an increasing portion of our effort, and in the next fiscal year we shall spend nearly a billion dollars more for them than in 1953. An indispensable part of our continental security is our civil defense effort. This will succeed only as we have the complete cooperation of State Governors, Mayors, and voluntary citizen groups. With their help we can advance a cooperative program which, if an attack should come, would save many lives and lessen destruction. The defense program recommended in the 1955 Budget is consistent with all of the considerations which I have just discussed. It is based on a new military program unanimously recommended by the Joint Chiefs of Staff and approved by me following consideration by the National Security Council. This new program will make and keep America strong in an age of peril. Nothing should bar its attainment. The international and defense policies which I have outlined will enable us to negotiate from a position of strength as we hold our resolute course toward a peaceful world. We now turn to matters which are normally characterized as domestic, well realizing that what we do abroad affects every problem at home--from the amount of taxes to our very state of mind. INTERNAL SECURITY Under the standards established for the new employee security program, more than 2,200 employees have been separated from the Federal government. Our national security demands that the investigation of new employees and the evaluation of derogatory information respecting present employees be expedited and concluded at the earliest possible date. I shall recommend that the Congress provide additional funds where necessary to speed these important procedures. From the special employment standards of the Federal government I turn now to a matter relating to American citizenship. The subversive character of the Communist Party in the United States has been clearly demonstrated in many ways, including court proceedings. We should recognize by law a fact that is plain to all thoughtful citizens-that we are dealing here with actions akin to treason--that when a citizen knowingly participates in the Communist conspiracy he no longer holds allegiance to the United States. I recommend that Congress enact legislation to provide that a citizen of the United States who is convicted in the courts of hereafter conspiring to advocate the overthrow of this government by force or violence be treated as having, by such act, renounced his allegiance to the United States and forfeited his United States citizenship. In addition, the Attorney General will soon appear before your Committees to present his recommendations for needed additional legal weapons with which to combat subversion in our country and to deal with the question of claimed immunity. II. STRONG ECONOMY I turn now to the second great purpose of our government: Along with the protection of freedom, the maintenance of a strong and growing economy. The American economy is one of the wonders of the world. It undergirds our international position, our military security, and the standard of living of every citizen. This Administration is determined to keep our economy strong and to keep it growing. At this moment we are in transition from a wartime to a peacetime economy. I am confident that we can complete this transition without serious interruption in our economic growth. But we shall not leave this vital matter to chance. Economic preparedness is fully as important to the nation as military preparedness. Subsequent special messages and the economic report on January 28 will set forth plans of the Administration and its recommendations for Congressional action. These will include flexible credit and debt management policies; tax measures to stimulate consumer and business spending; suitable lending, guaranteeing, insuring, and grant-in-aid activities; strengthened old-age and unemployment insurance measures; improved agricultural programs; public-works plans laid well in advance; enlarged opportunities for international trade and investment. This mere enumeration of these subjects implies the vast amount of study, coordination, and planning, to say nothing of authorizing legislation, that altogether make our economic preparedness complete. If new conditions arise that require additional administrative or legislative action, the Administration will still be ready. A government always ready, as this is, to take well-timed and vigorous action, and a business community willing, as ours is, to plan ,boldly and with confidence, can between them develop a climate assuring steady economic growth. THE BUDGET I shall submit to the Congress on January 21 the first budget prepared by this Administration, for the period July 1, 1954, through June 1955. This budget is adequate to the current needs of the government. It recognizes that a Federal budget should be a stabilizing factor in the economy. Its tax and expenditure programs will foster individual initiative and economic growth. Pending the transmittal of my Budget Message, I shall mention here only a few points about our budgetary situation. First, one of our initial acts was to revise, with the cooperation of the Congress, the Budget prepared before this Administration took office. Requests for new appropriations were greatly reduced. In addition, the spending level provided in that Budget for the current fiscal year has been reduced by about $7,000,000,000. In the next fiscal year we estimate a further reduction in expenditures of more than $5,000,000,000. This will reduce the spending level over the two fiscal years by more than $12,000,000,000. We are also reducing further our requests for new appropriations. Second, despite the substantial loss of revenue in the coming fiscal year, resulting from tax reductions now in effect and tax adjustments which I shall propose, our reduced spending will move the new budget closer to a balance. Third, by keeping new appropriation requests below estimated revenues, we continue to reduce the tremendous accumulation of unfinanced obligations incurred by the Government under past appropriations. Fourth, until those claims on our Government's revenues are further reduced, the growth in the public debt cannot be entirely stopped. Because of this--because the government's bills have to be paid every month, while the tax money to pay them comes in with great unevenness within the fiscal year--and because of the need for flexibility to manage this enormous debt, I find it necessary to renew my request for an increase in the statutory debt limit. TAXES The new budget provides for a lower level of taxation than has prevailed in preceding years. Six days ago individual income taxes were reduced and the excess profits tax expired. These tax reductions are justified only because of the substantial reductions we already have made and are making in governmental expenditures. As additional reductions in expenditures are brought gradually but surely into sight, further reductions in taxes can and will be made. When budget savings and sound governmental financing are assured, tax burdens should be reduced so that taxpayers may spend their own money in their own way. While we are moving toward lower levels of taxation we must thoroughly revise our whole tax system. The groundwork for this revision has already been laid by the Committee on Ways and Means of the House of Representatives, in close consultation with the Department of the Treasury. We should now remove the more glaring tax inequities, particularly on small taxpayers; reduce restraints on the growth of small business; and make other changes that will encourage initiative, enterprise and production. Twenty-five recommendations toward these ends will be contained in my budget message. Without attempting to summarize these manifold reforms, I can here illustrate their tendency. For example, we propose more liberal tax treatment for dependent children who work, for widows or widowers with dependent children, and for medical expenses. For the business that wants to expand or modernize its plant, we propose liberalized tax treatment of depreciation, research and development expenses, and retained earnings. Because of the present need for revenue the corporation income tax should be kept at the current rate of 52% for another year, and the excise taxes scheduled to be reduced on April first, including those on liquor, tobacco, gasoline and automobiles, should be continued at present rates. Immediate extension of the Renegotiation Act of 1951 is also needed to eliminate excessive profits and to prevent waste of public funds in the purchase of defense materials. AGRICULTURE The well being of our 160 million people demands a stable and prosperous agriculture. Conversely, every farmer knows he cannot prosper unless all America prospers. As we seek to promote increases in our standard of living, we must be sure that the farmer fairly shares in that increase. Therefore, a farm program promoting stability and prosperity in all elements of our agriculture is urgently needed. Agricultural laws now in effect successfully accomplished their wartime purpose of encouraging maximum production of many crops. Today, production of these crops at such levels far exceeds present demand. Yet the laws encouraging such production are still in effect. The storage facilities of the Commodity Credit Corporation bulge with surplus stocks of dairy products, wheat, cotton, corn, and certain vegetable oils; and the Corporation's presently authorized borrowing authority--$6,750,000,000--is nearly exhausted. Some products, priced out of domestic markets, and others, priced out of world markets, have piled up in government hands. In a world in which millions of people are hungry, destruction of food would, of course, be unconscionable. Yet surplus stocks continue to threaten the market and in spite of the acreage controls authorized by present law, surpluses will continue to accumulate. We confront two alternatives. The first is to impose still greater acreage reductions for some crops and apply rigid Federal controls over the use of the diverted acres. This will regiment the production of every basic agricultural crop. It will place every producer of those crops under the domination and control of the Federal government in Washington. This alternative is contrary to the fundamental interests, not only of the farmer, but of the Nation as a whole. Nor is it a real solution to the problem facing us. The second alternative is to permit the market price for these agricultural products gradually to have a greater influence on the planning of production by farmers, while continuing the assistance of the government. This is the sound approach. To make it effective, surpluses existing when the new program begins must be insulated from the normal channels of trade for special uses. These uses would include school lunch programs, disaster relief, emergency assistance to foreign friends, and of particular importance the stockpiling of reserves for a national emergency. Building on the agricultural laws of 1948 and 1949, we should establish a price support program with enough flexibility to attract the production of needed supplies of essential commodities and to stimulate the consumption of those commodities that are flooding American markets. Transition to modernized parity must be accomplished gradually. In no case should there be an abrupt downward change in the dollar level or in the percentage level of price supports. Next Monday I shall transmit to the Congress my detailed recommendations embodying this approach. They have been developed through the cooperation of innumerable individuals vitally interested in agriculture. My special message on Monday will briefly describe the consultative and advisory processes to which this whole program has been subjected during the past ten months. I have chosen this farm program because it will build markets, protect the consumers' food supply, and move food into consumption instead of into storage. It is a program that will remove the threat to the farmer of these overhanging surpluses, a program, also, that will stimulate production when a commodity is scarce and encourage consumption when nature is bountiful. Moreover, it will promote the individual freedom, responsibility, and initiative which distinguish American agriculture. And, by helping our agriculture achieve full parity in the market, it promises our farmers a higher and steadier financial return over the years than any alternative plan. CONSERVATION Part of our Nation's precious heritage is its natural resources. It is the common responsibility of Federal, state, and local governments to improve and develop them, always working in the closest harmony and partnership. All Federal conservation and resource development projects are being reappraised. Sound projects now under way will be continued. New projects in which the Federal Government has a part must be economically sound, with local sharing of cost wherever appropriate and feasible. In the next fiscal year work will be started on twenty-three projects that meet these standards. The Federal Government will continue to construct and operate economically sound flood control, power, irrigation and water supply projects wherever these projects are beyond the capacity of local initiative, public or private, and consistent with the needs of the whole Nation. Our conservation program will also take into account the important role played by farmers in protecting our soil resources. I recommend enactment of legislation to strengthen agricultural conservation and upstream flood prevention work, and to achieve a better balance with major flood control structures in the down-stream areas. Recommendations will be made from time to time for the adoption of: A uniform and consistent water resources policy; A revised public lands policy; and A sound program for safeguarding the domestic production of critical and strategic metals and minerals. In addition we shall continue to protect and improve our national forests, parks, monuments and other natural and historic sites, as well as our fishery and wildlife resources. I hope that pending legislation to improve the conservation and management of publicly-owned grazing lands in national forests will soon be approved by the Congress. NATIONAL HIGHWAYS To protect the vital interest of every citizen in a safe and adequate highway system, the Federal Government is continuing its central role in the Federal Aid Highway Program. So that maximum progress can be made to overcome present inadequacies in the Interstate Highway System, we must continue the Federal gasoline tax at two cents per gallon. This will require cancellation of the ½¢ decrease which otherwise will become effective April 1st, and will maintain revenues so that an expanded highway program can be undertaken. When the Commission on Intergovernmental Relations completes its study of the present system of financing highway construction, I shall promptly submit it for consideration by the Congress and the governors of the states. POST OFFICE It is apparent that the substantial savings already made, and to be made, by the Post Office Department cannot eliminate the postal deficit. I recommend, therefore, that the Congress approve the bill now pending in the House of Representatives providing for the adjustment of certain postal rates. To handle the long term aspects of this, I also recommend that the Congress create a permanent commission to establish fair and reasonable postal rates from time to time in the future. III. HUMAN PROBLEMS Along with the protection of freedom and maintenance of a strong and growing economy, this Administration recognizes a third great purpose of government: concern for the human problems of our citizens. In a modern industrial society, banishment of destitution and cushioning the shock of personal disaster on the individual are proper concerns of all levels of government, including the federal government. This is especially true where remedy and prevention alike are beyond the individual's capacity. LABOR AND WELFARE Of the many problems in this area, those I shall first discuss are of particular concern to the members of our great labor force, who with their heads, hearts and hands produce so much of the wealth of our country. Protection against the hazards of temporary unemployment should be extended to some 6½ millions of workers, including civilian Federal workers, who now lack this safeguard. Moreover, the Secretary of Labor is making available to the states studies and recommendations in the fields of weekly benefits, periods of protection and extension of coverage. The Economic Report will consider the related matter of minimum wages and their coverage. The Labor Management Relations Act of 3947 is basically a sound law. However, six years of experience have revealed that in some respects it can be improved. On January 11, I shall forward to the Congress suggestions for changes designed to reinforce the basic objectives of the Act. Our basic social security program, the Old-Age and Survivors Insurance system, to which individuals contribute during their productive years and receive benefits based on previous earnings, is designed to shield them from destitution. Last year I recommended extension of the social insurance system to include more than 10,000,000 additional persons. I ask that this extension soon be accomplished. This and other major improvements in the insurance system will bring substantial benefit increases and broaden the membership of the insurance system, thus diminishing the need for Federal grants-in-aid for such purposes. A new formula will therefore be proposed, permitting progressive reduction in such grants as the need for them declines. Federal grant-in-aid welfare programs, now based on widely varying formulas, should be simplified. Concrete proposals on fourteen of them will be suggested to the appropriate Committees. The program for rehabilitation of the disabled especially needs strengthening. Through special vocational training, this program presently returns each year some 60,000 handicapped individuals to productive work. Far more disabled people can be saved each year from idleness and dependence if this program is gradually increased. My more detailed recommendations on this and the other social insurance problems I have mentioned will be sent to the Congress on January 14th. HEALTH I am flatly opposed to the socialization of medicine. The great need for hospital and medical services can best be met by the initiative of private plans. But it is unfortunately a fact that medical costs are rising and already impose severe hardships on many families. The Federal Government can do many helpful things and still carefully avoid the socialization of medicine. The Federal Government should encourage medical research in its battle with such mortal diseases as cancer and heart ailments, and should continue to help the states in their health and rehabilitation programs. The present Hospital Survey and Construction Act should be broadened in order to assist in the development of adequate facilities for the chronically ill, and to encourage the construction of diagnostic centers, rehabilitation facilities, and nursing homes. The war on disease also needs a better working relationship between Government and private initiative. Private and non-profit hospital and medical insurance plans are already in the field, soundly based on the experience and initiative of the people in their various communities. A limited Government reinsurance service would permit the private and non-profit insurance companies to offer broader protection to more of the many families which want and should have it. On January 18 I shall forward to the Congress a special message presenting this Administration's health program in its detail. EDUCATION Youth--our greatest resource--is being seriously neglected in a vital respect. The nation as a whole is not preparing teachers or building schools fast enough to keep up with the increase in our population. The preparation of teachers as, indeed, the control and direction of public education policy, is a state and local responsibility. However, the Federal Government should stand ready to assist states which demonstrably cannot provide sufficient school buildings. In order to appraise the needs, I hope that this year a conference on education will be held in each state, culminating in a national conference. From these conferences on education, every level of government--from the Federal Government to each local school board--should gain the information with which to attack this serious problem. HOUSING The details of a program to enlarge and improve the opportunities for our people to acquire good homes will be presented to the Congress by special message on January This program will include: Modernization of the home mortgage insurance program of the Federal Government; Redirection of the present system of loans and grants-in-aid to cities for slum clearance and redevelopment; Extension of the advantages of insured lending to private credit engaged in this task of rehabilitating obsolete neighborhoods; Insurance of long-term, mortgage loans, with small down payment for low-income families; and, until alternative programs prove more effective, Continuation of the public housing program adopted in the Housing Act of 1949. If the individual, the community, the State and federal governments will alike apply themselves, every American family can have a decent home. VETERANS ADMINISTRATION The internal reorganization of the Veterans Administration is proceeding with my full approval. When completed, it will afford a single agency whose services, including medical facilities, will be better adapted to the needs of those 20,000,000 veterans to whom this Nation owes so much. SUFFRAGE My few remaining recommendations all relate to a basic right of our citizens--that of being represented in the decisions of the government. I hope that the States will cooperate with the Congress in adopting uniform standards in their voting laws that will make it possible for our citizens in the armed forces overseas to vote. In the District of Columbia the time is long overdue for granting national suffrage to its citizens and also applying the principle of local self-government to the Nation's Capital. I urge the Congress to move promptly in this direction and also to revise District revenue measures to provide needed public works improvements. The people of Hawaii are ready for statehood. I renew my request for this legislation in order that Hawaii may elect its State officials and its representatives in Washington along with the rest of the country this fall. For years our citizens between the ages of 18 and 21 have, in time of peril, been summoned to fight for America. They should participate in the political process that produces this fateful summons. I urge Congress to propose to the States a constitutional amendment permitting citizens to vote when they reach the age of 18. CONCLUSION I want to add one final word about the general purport of these many recommendations. Our government's powers are wisely limited by the Constitution; but quite apart from those limitations, there are things which no government can do or should try to do. A government can strive, as ours is striving, to maintain an economic system whose doors are open to enterprise and ambition--those personal qualities on which economic growth largely depends. But enterprise and ambition are qualities which no government can supply. Fortunately no American government need concern itself on this score; our people have these qualities in good measure. A government can sincerely strive for peace, as ours is striving, and ask its people to make sacrifices for the sake of peace. But no government can place peace in the hearts of foreign rulers. It is our duty then to ourselves and to freedom itself to remain strong in all those ways--spiritual, economic, military--that will give us maximum safety against the possibility of aggressive action by others. No government can inoculate its people against the fatal materialism that plagues our age. Happily, our people, though blessed with more material goods than any people in history, have always reserved their first allegiance to the kingdom of the spirit, which is the true source of that freedom we value above all material things. But a government can try, as ours tries, to sense the deepest aspirations of the people, and to express them in political action at home and abroad. So long as action and aspiration humbly and earnestly seek favor in the sight of the Almighty, there is no end to America's forward road; there is no obstacle on it she will not surmount in her march toward a lasting peace in a free and prosperous world. DWIGHT D. EISENHOWER\"]"
      ]
     },
     "execution_count": 12,
     "metadata": {},
     "output_type": "execute_result"
    }
   ],
   "source": [
    "corpus[70]"
   ]
  },
  {
   "cell_type": "code",
   "execution_count": 13,
   "metadata": {},
   "outputs": [
    {
     "data": {
      "text/plain": [
       "['Barack Obama',\n",
       " '2013',\n",
       " 'February 12',\n",
       " 'Please, everybody, have a seat. Mr. Speaker, Mr. Vice President, Members of Congress, fellow Americans: Fifty-one years ago, John F. Kennedy declared to this Chamber that \"the Constitution makes us not rivals for power, but partners for progress.\" \"It is my task,\" he said, \"to report the state of the Union; to improve it is the task of us all.\" Tonight, thanks to the grit and determination of the American people, there is much progress to report. After a decade of grinding war, our brave men and women in uniform are coming home. After years of grueling recession, our businesses have created over 6 million new jobs. We buy more American cars than we have in 5 years and less foreign oil than we have in 20. Our housing market is healing, our stock market is rebounding, and consumers, patients, and homeowners enjoy stronger protections than ever before. So together, we have cleared away the rubble of crisis, and we can say with renewed confidence that the state of our Union is stronger. But we gather here knowing that there are millions of Americans whose hard work and dedication have not yet been rewarded. Our economy is adding jobs, but too many people still can\\'t find full-time employment. Corporate profits have skyrocketed to alltime highs, but for more than a decade, wages and incomes have barely budged. It is our generation\\'s task, then, to reignite the true engine of America\\'s economic growth: a rising, thriving middle class. It is our unfinished task to restore the basic bargain that built this country: the idea that if you work hard and meet your responsibilities, you can get ahead, no matter where you come from, no matter what you look like or who you love. It is our unfinished task to make sure that this Government works on behalf of the many, and not just the few; that it encourages free enterprise, rewards individual initiative, and opens the doors of opportunity to every child across this great Nation. The American people don\\'t expect government to solve every problem. They don\\'t expect those of us in this Chamber to agree on every issue. But they do expect us to put the Nation\\'s interests before party. They do expect us to forge reasonable compromise where we can. For they know that America moves forward only when we do so together and that the responsibility of improving this Union remains the task of us all. Now, our work must begin by making some basic decisions about our budget, decisions that will have a huge impact on the strength of our recovery. Over the last few years, both parties have worked together to reduce the deficit by more than $2.5 trillion, mostly through spending cuts, but also by raising tax rates on the wealthiest 1 percent of Americans. As a result, we are more than halfway towards the goal of $4 trillion in deficit reduction that economists say we need to stabilize our finances. Now we need to finish the job. And the question is, how? In 2011, Congress passed a law saying that if both parties couldn\\'t agree on a plan to reach our deficit goal, about a trillion dollars\\' worth of budget cuts would automatically go into effect this year. These sudden, harsh, arbitrary cuts would jeopardize our military readiness. They\\'d devastate priorities like education and energy and medical research. They would certainly slow our recovery and cost us hundreds of thousands of jobs. And that\\'s why Democrats, Republicans, business leaders, and economists have already said that these cuts—known here in Washington as the sequester—are a really bad idea. Now, some in Congress have proposed preventing only the defense cuts by making even bigger cuts to things like education and job training, Medicare, and Social Security benefits. That idea is even worse. Yes, the biggest driver of our long-term debt is the rising cost of health care for an aging population. And those of us who care deeply about programs like Medicare must embrace the need for modest reforms; otherwise, our retirement programs will crowd out the investments we need for our children and jeopardize the promise of a secure retirement for future generations. But we can\\'t ask senior citizens and working families to shoulder the entire burden of deficit reduction while asking nothing more from the wealthiest and the most powerful. We won\\'t grow the middle class simply by shifting the cost of health care or college onto families that are already struggling or by forcing communities to lay off more teachers and more cops and more firefighters. Most Americans—Democrats, Republicans, and Independents—understand that we can\\'t just cut our way to prosperity. They know that broad-based economic growth requires a balanced approach to deficit reduction, with spending cuts and revenue and with everybody doing their fair share. And that\\'s the approach I offer tonight. On Medicare, I\\'m prepared to enact reforms that will achieve the same amount of health care savings by the beginning of the next decade as the reforms proposed by the bipartisan Simpson-Bowles Commission. Already, the Affordable Care Act is helping to slow the growth of health care costs. And the reforms I\\'m proposing go even further. We\\'ll reduce taxpayer subsidies to prescription drug companies and ask more from the wealthiest seniors. We\\'ll bring down costs by changing the way our Government pays for Medicare, because our medical bills shouldn\\'t be based on the number of tests ordered or days spent in the hospital; they should be based on the quality of care that our seniors receive. And I am open to additional reforms from both parties, so long as they don\\'t violate the guarantee of a secure retirement. Our Government shouldn\\'t make promises we cannot keep, but we must keep the promises we\\'ve already made. To hit the rest of our deficit reduction target, we should do what leaders in both parties have already suggested and save hundreds of billions of dollars by getting rid of tax loopholes and deductions for the well-off and the well-connected. After all, why would we choose to make deeper cuts to education and Medicare just to protect special interest tax breaks? How is that fair? Why is it that deficit reduction is a big emergency justifying making cuts in Social Security benefits, but not closing some loopholes? How does that promote growth? Now is our best chance for bipartisan, comprehensive tax reform that encourages job creation and helps bring down the deficit. We can get this done. The American people deserve a Tax Code that helps small businesses spend less time filling out complicated forms and more time expanding and hiring; a Tax Code that ensures billionaires with high-powered accountants can\\'t work the system and pay a lower rate than their hard-working secretaries; a Tax Code that lowers incentives to move jobs overseas and lowers tax rates for businesses and manufacturers that are creating jobs right here in the United States of America. That\\'s what tax reform can deliver. That\\'s what we can do together. I realize that tax reform and entitlement reform will not be easy. The politics will be hard for both sides. None of us will get a hundred percent of what we want. But the alternative will cost us jobs, hurt our economy, visit hardship on millions of hard-working Americans. So let\\'s set party interests aside and work to pass a budget that replaces reckless cuts with smart savings and wise investments in our future. And let\\'s do it without the brinksmanship that stresses consumers and scares off investors. The greatest nation on Earth cannot keep conducting its business by drifting from one manufactured crisis to the next. We can\\'t do it. Let\\'s agree right here, right now to keep the people\\'s Government open and pay our bills on time and always uphold the full faith and credit of the United States of America. The American people have worked too hard, for too long, rebuilding from one crisis to see their elected officials cause another. Now, most of us agree that a plan to reduce the deficit must be part of our agenda. But let\\'s be clear: Deficit reduction alone is not an economic plan. A growing economy that creates good, middle class jobs, that must be the north star that guides our efforts. Every day, we should ask ourselves three questions as a nation: How do we attract more jobs to our shores? How do we equip our people with the skills they need to get those jobs? And how do we make sure that hard work leads to a decent living? Now, a year and a half ago, I put forward an American Jobs Act that independent economists said would create more than 1 million new jobs. And I thank the last Congress for passing some of that agenda. I urge this Congress to pass the rest. But tonight I\\'ll lay out additional proposals that are fully paid for and fully consistent with the budget framework both parties agreed to just 18 months ago. Let me repeat: Nothing I\\'m proposing tonight should increase our deficit by a single dime. It is not a bigger Government we need, but a smarter Government that sets priorities and invests in broad-based growth. That\\'s what we should be looking for. Our first priority is making America a magnet for new jobs and manufacturing. After shedding jobs for more than 10 years, our manufacturers have added about 500,000 jobs over the past 3. Caterpillar is bringing jobs back from Japan. Ford is bringing jobs back from Mexico. And this year, Apple will start making Macs in America again. There are things we can do right now to accelerate this trend. Last year, we created our first manufacturing innovation institute in Youngstown, Ohio. A once-shuttered warehouse is now a state-of-the-art lab where new workers are mastering the 3-D printing that has the potential to revolutionize the way we make almost everything. There\\'s no reason this can\\'t happen in other towns. So tonight I\\'m announcing the launch of three more of these manufacturing hubs, where businesses will partner with the Department of Defense and Energy to turn regions left behind by globalization into global centers of high-tech jobs. And I ask this Congress to help create a network of 15 of these hubs and guarantee that the next revolution in manufacturing is made right here in America. We can get that done. Now, if we want to make the best products, we also have to invest in the best ideas. Every dollar we invested to map the human genome returned $140 to our economy—every dollar. Today, our scientists are mapping the human brain to unlock the answers to Alzheimer\\'s. They\\'re developing drugs to regenerate damaged organs, devising new materials to make batteries 10 times more powerful. Now is not the time to gut these job-creating investments in science and innovation, now is the time to reach a level of research and development not seen since the height of the space race. We need to make those investments. Today, no area holds more promise than our investments in American energy. After years of talking about it, we\\'re finally poised to control our own energy future. We produce more oil at home than we have in 15 years. We have doubled the distance our cars will go on a gallon of gas and the amount of renewable energy we generate from sources like wind and solar, with tens of thousands of good American jobs to show for it. We produce more natural gas than ever before, and nearly everyone\\'s energy bill is lower because of it. And over the last 4 years, our emissions of the dangerous carbon pollution that threatens our planet have actually fallen. But for the sake of our children and our future, we must do more to combat climate change. Now, it\\'s true that no single event makes a trend. But the fact is, the 12 hottest years on record have all come in the last 15. Heat waves, droughts, wildfires, floods—all are now more frequent and more intense. We can choose to believe that Superstorm Sandy and the most severe drought in decades and the worst wildfires some States have ever seen were all just a freak coincidence. Or we can choose to believe in the overwhelming judgment of science and act before it\\'s too late. Now, the good news is we can make meaningful progress on this issue while driving strong economic growth. I urge this Congress to get together, pursue a bipartisan, market-based solution to climate change, like the one John McCain and Joe Lieberman worked on together a few years ago. But if Congress won\\'t act soon to protect future generations, I will. I will direct my Cabinet to come up with executive actions we can take, now and in the future, to reduce pollution, prepare our communities for the consequences of climate change, and speed the transition to more sustainable sources of energy. And 4 years ago, other countries dominated the clean energy market and the jobs that came with it. And we\\'ve begun to change that. Last year, wind energy added nearly half of all new power capacity in America. So let\\'s generate even more. Solar energy gets cheaper by the year; let\\'s drive down costs even further. As long as countries like China keep going all in on clean energy, so must we. Now, in the meantime, the natural gas boom has led to cleaner power and greater energy independence. We need to encourage that. And that\\'s why my administration will keep cutting redtape and speeding up new oil and gas permits. That\\'s got to be part of an all-of-the-above plan. But I also want to work with this Congress to encourage the research and technology that helps natural gas burn even cleaner and protects our air and our water. In fact, much of our new-found energy is drawn from lands and waters that we, the public, own together. So tonight I propose we use some of our oil and gas revenues to fund an energy security trust that will drive new research and technology to shift our cars and trucks off oil for good. If a nonpartisan coalition of CEOs and retired generals and admirals can get behind this idea, then so can we. Let\\'s take their advice and free our families and businesses from the painful spikes in gas prices we\\'ve put up with for far too long. I\\'m also issuing a new goal for America: Let\\'s cut in half the energy wasted by our homes and businesses over the next 20 years. We\\'ll work with the States to do it. Those States with the best ideas to create jobs and lower energy bills by constructing more efficient buildings will receive Federal support to help make that happen. America\\'s energy sector is just one part of an aging infrastructure badly in need of repair. Ask any CEO where they\\'d rather locate and hire, a country with deteriorating roads and bridges or one with high-speed rail and Internet, high-tech schools, self-healing power grids. The CEO of Siemens America—a company that brought hundreds of new jobs to North Carolina—said that if we upgrade our infrastructure, they\\'ll bring even more jobs. And that\\'s the attitude of a lot of companies all around the world. And I know you want these job-creating projects in your district. I\\'ve seen all those ribbon-cuttings. [Laughter] So tonight I propose a Fix-It-First program to put people to work as soon as possible on our most urgent repairs, like the nearly 70,000 structurally deficient bridges across the country. And to make sure taxpayers don\\'t shoulder the whole burden, I\\'m also proposing a partnership to rebuild America that attracts private capital to upgrade what our businesses need most: modern ports to move our goods, modern pipelines to withstand a storm, modern schools worthy of our children. Let\\'s prove there\\'s no better place to do business than here in the United States of America, and let\\'s start right away. We can get this done. And part of our rebuilding effort must also involve our housing sector. The good news is, our housing market is finally healing from the collapse of 2007. Home prices are rising at the fastest pace in 6 years. Home purchases are up nearly 50 percent, and construction is expanding again. But even with mortgage rates near a 50-year low, too many families with solid credit who want to buy a home are being rejected. Too many families who never missed a payment and want to refinance are being told no. That\\'s holding our entire economy back. We need to fix it. Right now there\\'s a bill in this Congress that would give every responsible homeowner in America the chance to save $3,000 a year by refinancing at today\\'s rates. Democrats and Republicans have supported it before, so what are we waiting for? Take a vote and send me that bill. Why are—why would we be against that? Why would that be a partisan issue, helping folks refinance? Right now overlapping regulations keep responsible young families from buying their first home. What\\'s holding us back? Let\\'s streamline the process and help our economy grow. These initiatives in manufacturing, energy, infrastructure, housing, all these things will help entrepreneurs and small-business owners expand and create new jobs. But none of it will matter unless we also equip our citizens with the skills and training to fill those jobs. And that has to start at the earliest possible age. Study after study shows that the sooner a child begins learning, the better he or she does down the road. But today, fewer than 3 in 10 4-year-olds are enrolled in a high-quality preschool program. Most middle class parents can\\'t afford a few hundred bucks a week for a private preschool. And for poor kids who need help the most, this lack of access to preschool education can shadow them for the rest of their lives. So tonight I propose working with States to make high-quality preschool available to every single child in America. That\\'s something we should be able to do. Every dollar we invest in high-quality early childhood education can save more than 7 dollars later on: by boosting graduation rates, reducing teen pregnancy, even reducing violent crime. In States that make it a priority to educate our youngest children, like Georgia or Oklahoma, studies show students grow up more likely to read and do math at grade level, graduate high school, hold a job, form more stable families of their own. We know this works. So let\\'s do what works and make sure none of our children start the race of life already behind. Let\\'s give our kids that chance. Let\\'s also make sure that a high school diploma puts our kids on a path to a good job. Right now countries like Germany focus on graduating their high school students with the equivalent of a technical degree from one of our community colleges. So those German kids, they\\'re ready for a job when they graduate high school. They\\'ve been trained for the jobs that are there. Now at schools like P-TECH in Brooklyn, a collaboration between New York Public Schools and City University of New York and IBM, students will graduate with a high school diploma and an associate\\'s degree in computers or engineering. We need to give every American student opportunities like this. And 4 years ago, we started Race to the Top, a competition that convinced almost every State to develop smarter curricula and higher standards, all for about 1 percent of what we spend on education each year. Tonight I\\'m announcing a new challenge to redesign America\\'s high schools so they better equip graduates for the demands of a high-tech economy. And we\\'ll reward schools that develop new partnerships with colleges and employers and create classes that focus on science, technology, engineering, and math: the skills today\\'s employers are looking for to fill the jobs that are there right now and will be there in the future. Now, even with better high schools, most young people will need some higher education. It\\'s a simple fact: The more education you\\'ve got, the more likely you are to have a good job and work your way into the middle class. But today, skyrocketing costs price too many young people out of a higher education or saddle them with unsustainable debt. Through tax credits, grants, and better loans, we\\'ve made college more affordable for millions of students and families over the last few years. But taxpayers can\\'t keep on subsidizing higher and higher and higher costs for higher education. Colleges must do their part to keep costs down, and it\\'s our job to make sure that they do. So tonight I ask Congress to change the Higher Education Act so that affordability and value are included in determining which colleges receive certain types of Federal aid. And tomorrow my administration will release a new college scorecard that parents and students can use to compare schools based on a simple criterion: where you can get the most bang for your educational buck. Now, to grow our middle class, our citizens have to have access to the education and training that today\\'s jobs require. But we also have to make sure that America remains a place where everyone who\\'s willing to work—everybody who\\'s willing to work hard—has the chance to get ahead. Our economy is stronger when we harness the talents and ingenuity of striving, hopeful immigrants. And right now leaders from the business, labor, law enforcement, faith communities, they all agree that the time has come to pass comprehensive immigration reform. Now is the time to do it. Now is the time to get it done. [Applause] Now is the time to get it done. Real reform means stronger border security, and we can build on the progress my administration has already made: putting more boots on the southern border than at any time in our history and reducing illegal crossings to their lowest levels in 40 years. Real reform means establishing a responsible pathway to earned citizenship, a path that includes passing a background check, paying taxes and a meaningful penalty, learning English, and going to the back of the line behind the folks trying to come here legally. And real reform means fixing the legal immigration system to cut waiting periods and attract the highly skilled entrepreneurs and engineers that will help create jobs and grow our economy. In other words, we know what needs to be done. And as we speak, bipartisan groups in both Chambers are working diligently to draft a bill, and I applaud their efforts. So let\\'s get this done. Send me a comprehensive immigration reform bill in the next few months, and I will sign it right away. And America will be better for it. Let\\'s get it done. [Applause] Let\\'s get it done. But we can\\'t stop there. We know our economy is stronger when our wives, our mothers, our daughters can live their lives free from discrimination in the workplace and free from the fear of domestic violence. Today the Senate passed the \"Violence Against Women\\'s Act\" that Joe Biden originally wrote almost 20 years ago. And I now urge the House to do the same. Good job, Joe. And I ask this Congress to declare that women should earn a living equal to their efforts, and finally pass the \"Paycheck Fairness Act\" this year. We know our economy is stronger when we reward an honest day\\'s work with honest wages. But today, a full-time worker making the minimum wage earns $14,500 a year. Even with the tax relief we put in place, a family with two kids that earns the minimum wage still lives below the poverty line. That\\'s wrong. That\\'s why, since the last time this Congress raised the minimum wage, 19 States have chosen to bump theirs even higher. Tonight let\\'s declare that in the wealthiest nation on Earth, no one who works full-time should have to live in poverty and raise the Federal minimum wage to $9 an hour. We should be able to get that done. This single step would raise the incomes of millions of working families. It could mean the difference between groceries or the food bank, rent or eviction, scraping by or finally getting ahead. For businesses across the country, it would mean customers with more money in their pockets. And a whole lot of folks out there would probably need less help from government. In fact, working folks shouldn\\'t have to wait year after year for the minimum wage to go up while CEO pay has never been higher. So here\\'s an idea that Governor Romney and I actually agreed on last year: Let\\'s tie the minimum wage to the cost of living so that it finally becomes a wage you can live on. Tonight let\\'s also recognize that there are communities in this country where no matter how hard you work, it is virtually impossible to get ahead: factory towns decimated from years of plants packing up; inescapable pockets of poverty, urban and rural, where young adults are still fighting for their first job. America is not a place where the chance of birth or circumstance should decide our destiny. And that\\'s why we need to build new ladders of opportunity into the middle class for all who are willing to climb them. Let\\'s offer incentives to companies that hire Americans who\\'ve got what it takes to fill that job opening, but have been out of work so long that no one will give them a chance anymore. Let\\'s put people back to work rebuilding vacant homes in rundown neighborhoods. And this year, my administration will begin to partner with 20 of the hardest hit towns in America to get these communities back on their feet. Now, we\\'ll work with local leaders to target resources at public safety and education and housing. We\\'ll give new tax credits to businesses that hire and invest. And we\\'ll work to strengthen families by removing the financial deterrents to marriage for low-income couples and do more to encourage fatherhood, because what makes you a man isn\\'t the ability to conceive a child, it\\'s having the courage to raise one. And we want to encourage that. We want to help that. Stronger families. Stronger communities. A stronger America. It is this kind of prosperity—broad, shared, built on a thriving middle class—that has always been the source of our progress at home. It\\'s also the foundation of our power and influence throughout the world. Tonight we stand united in saluting the troops and civilians who sacrifice every day to protect us. Because of them, we can say with confidence that America will complete its mission in Afghanistan and achieve our objective of defeating the core of Al Qaida. Already, we have brought home 33,000 of our brave service men and women. This spring, our forces will move into a support role, while Afghan security forces take the lead. Tonight I can announce that over the next year, another 34,000 American troops will come home from Afghanistan. This drawdown will continue, and by the end of next year, our war in Afghanistan will be over. Beyond 2014, America\\'s commitment to a unified and sovereign Afghanistan will endure, but the nature of our commitment will change. We\\'re negotiating an agreement with the Afghan Government that focuses on two missions: training and equipping Afghan forces so that the country does not again slip into chaos and counterterrorism efforts that allow us to pursue the remnants of Al Qaida and their affiliates. Today, the organization that attacked us on 9/11 is a shadow of its former self. It\\'s true, different Al Qaida affiliates and extremist groups have emerged, from the Arabian Peninsula to Africa. The threat these groups pose is evolving. But to meet this threat, we don\\'t need to send tens of thousands of our sons and daughters abroad or occupy other nations. Instead, we\\'ll need to help countries like Yemen and Libya and Somalia provide for their own security and help allies who take the fight to terrorists, as we have in Mali. And where necessary, through a range of capabilities, we will continue to take direct action against those terrorists who pose the gravest threat to Americans. Now, as we do, we must enlist our values in the fight. That\\'s why my administration has worked tirelessly to forge a durable legal and policy framework to guide our counterterrorism efforts. Throughout, we have kept Congress fully informed of our efforts. I recognize that in our democracy, no one should just take my word for it that we\\'re doing things the right way. So, in the months ahead, I will continue to engage Congress to ensure not only that our targeting, detention, and prosecution of terrorists remains consistent with our laws and system of checks and balances, but that our efforts are even more transparent to the American people and to the world. Of course, our challenges don\\'t end with Al Qaida. America will continue to lead the effort to prevent the spread of the world\\'s most dangerous weapons. The regime in North Korea must know they will only achieve security and prosperity by meeting their international obligations. Provocations of the sort we saw last night will only further isolate them, as we stand by our allies, strengthen our own missile defense, and lead the world in taking firm action in response to these threats. Likewise, the leaders of Iran must recognize that now is the time for a diplomatic solution, because a coalition stands united in demanding that they meet their obligations, and we will do what is necessary to prevent them from getting a nuclear weapon. At the same time, we\\'ll engage Russia to seek further reductions in our nuclear arsenals and continue leading the global effort to secure nuclear materials that could fall into the wrong hands, because our ability to influence others depends on our willingness to lead and meet our obligations. America must also face the rapidly growing threat from cyber attacks. Now, we know hackers steal people\\'s identities and infiltrate private e-mails. We know foreign countries and companies swipe our corporate secrets. Now our enemies are also seeking the ability to sabotage our power grid, our financial institutions, our air traffic control systems. We cannot look back years from now and wonder why we did nothing in the face of real threats to our security and our economy. And that\\'s why, earlier today, I signed a new Executive order that will strengthen our cyber defenses by increasing information sharing and developing standards to protect our national security, our jobs, and our privacy. But now Congress must act as well, by passing legislation to give our Government a greater capacity to secure our networks and deter attacks. This is something we should be able to get done on a bipartisan basis. Now, even as we protect our people, we should remember that today\\'s world presents not just dangers, not just threats, it presents opportunities. To boost American exports, support American jobs and level the playing field in the growing markets of Asia, we intend to complete negotiations on a Trans-Pacific Partnership. And tonight I\\'m announcing that we will launch talks on a comprehensive transatlantic trade and investment partnership with the European Union, because trade that is fair and free across the Atlantic supports millions of good-paying American jobs. We also know that progress in the most impoverished parts of our world enriches us all, not only because it creates new markets, more stable order in certain regions of the world, but also because it\\'s the right thing to do. In many places, people live on little more than a dollar a day. So the United States will join with our allies to eradicate such extreme poverty in the next two decades by connecting more people to the global economy, by empowering women, by giving our young and brightest minds new opportunities to serve and helping communities to feed and power and educate themselves, by saving the world\\'s children from preventable deaths, and by realizing the promise of an AIDS-free generation, which is within our reach. You see, America must remain a beacon to all who seek freedom during this period of historic change. I saw the power of hope last year in Rangoon, in Burma, when Aung San Suu Kyi welcomed an American President into the home where she had been imprisoned for years; when thousands of Burmese lined the streets, waving American flags, including a man who said: \"There is justice and law in the United States. I want our country to be like that.\" In defense of freedom, we\\'ll remain the anchor of strong alliances from the Americas to Africa, from Europe to Asia. In the Middle East, we will stand with citizens as they demand their universal rights and support stable transitions to democracy. We know the process will be messy, and we cannot presume to dictate the course of change in countries like Egypt, but we can and will insist on respect for the fundamental rights of all people. We\\'ll keep the pressure on a Syrian regime that has murdered its own people and support opposition leaders that respect the rights of every Syrian. And we will stand steadfast with Israel in pursuit of security and a lasting peace. These are the messages I\\'ll deliver when I travel to the Middle East next month. And all this work depends on the courage and sacrifice of those who serve in dangerous places at great personal risk: our diplomats, our intelligence officers, and the men and women of the United States Armed Forces. As long as I\\'m Commander in Chief, we will do whatever we must to protect those who serve their country abroad, and we will maintain the best military the world has ever known. We\\'ll invest in new capabilities, even as we reduce waste and wartime spending. We will ensure equal treatment for all servicemembers and equal benefits for their families, gay and straight. We will draw upon the courage and skills of our sisters and daughters and moms, because women have proven under fire that they are ready for combat. We will keep faith with our veterans, investing in world-class care—including mental health care—for our wounded warriors, supporting our military families, giving our veterans the benefits and education and job opportunities that they have earned. And I want to thank my wife Michelle and Dr. Jill Biden for their continued dedication to serving our military families as well as they have served us. Thank you, honey. Thank you, Jill. Defending our freedom, though, is not just the job of our military alone. We must all do our part to make sure our God-given rights are protected here at home. That includes one of the most fundamental rights of a democracy: the right to vote. Now, when any American, no matter where they live or what their party, are denied that right because they can\\'t afford to wait for 5 or 6 or 7 hours just to cast their ballot, we are betraying our ideals. So tonight I\\'m announcing a nonpartisan commission to improve the voting experience in America. And it definitely needs improvement. I\\'m asking two long-time experts in the field—who, by the way, recently served as the top attorneys for my campaign and for Governor Romney\\'s campaign—to lead it. We can fix this, and we will. The American people demand it, and so does our democracy. Of course, what I\\'ve said tonight matters little if we don\\'t come together to protect our most precious resource: our children. It has been 2 months since Newtown. I know this is not the first time this country has debated how to reduce gun violence. But this time is different. Overwhelming majorities of Americans—Americans who believe in the Second Amendment—have come together around commonsense reform, like background checks that will make it harder for criminals to get their hands on a gun. Senators of both parties are working together on tough new laws to prevent anyone from buying guns for resale to criminals. Police chiefs are asking our help to get weapons of war and massive ammunition magazines off our streets, because these police chiefs, they\\'re tired of seeing their guys and gals being outgunned. Each of these proposals deserves a vote in Congress. Now, if you want to vote no, that\\'s your choice. But these proposals deserve a vote. Because in the 2 months since Newtown, more than a thousand birthdays, graduations, anniversaries have been stolen from our lives by a bullet from a gun—more than a thousand. One of those we lost was a young girl named Hadiya Pendleton. She was 15 years old. She loved Fig Newtons and lip gloss. She was a majorette. She was so good to her friends, they all thought they were her best friend. Just 3 weeks ago, she was here, in Washington, with her classmates, performing for her country at my Inauguration. And a week later, she was shot and killed in a Chicago park after school, just a mile away from my house. Hadiya\\'s parents, Nate and Cleo, are in this Chamber tonight, along with more than two dozen Americans whose lives have been torn apart by gun violence. They deserve a vote. They deserve a vote. [Applause] They deserve a vote. Gabby Giffords deserves a vote. The families of Newtown deserve a vote. The families of Aurora deserve a vote. The families of Oak Creek and Tucson and Blacksburg, and the countless other communities ripped open by gun violence, they deserve a simple vote. They deserve a simple vote. Our actions will not prevent every senseless act of violence in this country. In fact, no laws, no initiatives, no administrative acts will perfectly solve all the challenges I\\'ve outlined tonight. But we were never sent here to be perfect. We were sent here to make what difference we can, to secure this Nation, expand opportunity, uphold our ideals through the hard, often frustrating, but absolutely necessary work of self-government. We were sent here to look out for our fellow Americans the same way they look out for one another, every single day, usually without fanfare, all across this country. We should follow their example. We should follow the example of a New York City nurse named Menchu Sanchez. When Hurricane Sandy plunged her hospital into darkness, she wasn\\'t thinking about how her own home was faring. Her mind was on the 20 precious newborns in her care and the rescue plan she devised that kept them all safe. We should follow the example of a North Miami woman named Desiline Victor. When Desiline arrived at her polling place, she was told the wait to vote might be 6 hours. And as time ticked by, her concern was not with her tired body or aching feet, but whether folks like her would get to have their say. And hour after hour, a throng of people stayed in line to support her, because Desiline is 102 years old. And they erupted in cheers when she finally put on a sticker that read, \"I voted.\" [Applause] There\\'s Desiline. We should follow the example of a police officer named Brian Murphy. When a gunman opened fire on a Sikh temple in Wisconsin and Brian was the first to arrive—and he did not consider his own safety. He fought back until help arrived and ordered his fellow officers to protect the safety of the Americans worshiping inside, even as he lay bleeding from 12 bullet wounds. And when asked how he did that, Brian said, \"That\\'s just the way we\\'re made.\" That\\'s just the way we\\'re made. We may do different jobs and wear different uniforms and hold different views than the person beside us. But as Americans, we all share the same proud title: We are citizens. It\\'s a word that doesn\\'t just describe our nationality or legal status. It describes the way we\\'re made. It describes what we believe. It captures the enduring idea that this country only works when we accept certain obligations to one another and to future generations; that our rights are wrapped up in the rights of others; and that well into our third century as a nation, it remains the task of us all, as citizens of these United States, to be the authors of the next great chapter of our American story. Thank you. God bless you, and God bless these United States of America.']"
      ]
     },
     "execution_count": 13,
     "metadata": {},
     "output_type": "execute_result"
    }
   ],
   "source": [
    "corpus[1]"
   ]
  },
  {
   "cell_type": "code",
   "execution_count": 14,
   "metadata": {},
   "outputs": [
    {
     "name": "stderr",
     "output_type": "stream",
     "text": [
      "C:\\ProgramData\\Anaconda3\\lib\\site-packages\\datascience\\tables.py:81: FutureWarning: Table.empty(labels) is deprecated. Use Table(labels)\n",
      "  warnings.warn(\"Table.empty(labels) is deprecated. Use Table(labels)\", FutureWarning)\n",
      "C:\\ProgramData\\Anaconda3\\lib\\site-packages\\datascience\\tables.py:49: FutureWarning: Two-argument __init__ is deprecated. Use Table().with_columns(...)\n",
      "  warnings.warn(\"Two-argument __init__ is deprecated. Use Table().with_columns(...)\", FutureWarning)\n"
     ]
    },
    {
     "data": {
      "text/html": [
       "<table border=\"1\" class=\"dataframe\">\n",
       "    <thead>\n",
       "        <tr>\n",
       "            <th>Name</th> <th>Year</th> <th>Date</th> <th>Text</th>\n",
       "        </tr>\n",
       "    </thead>\n",
       "    <tbody>\n",
       "</table>"
      ],
      "text/plain": [
       "Name | Year | Date | Text"
      ]
     },
     "execution_count": 14,
     "metadata": {},
     "output_type": "execute_result"
    }
   ],
   "source": [
    "t = Table().empty(make_array(\"Name\", \"Year\", \"Date\", \"Text\"))\n",
    "t"
   ]
  },
  {
   "cell_type": "code",
   "execution_count": 15,
   "metadata": {},
   "outputs": [
    {
     "data": {
      "text/html": [
       "<table border=\"1\" class=\"dataframe\">\n",
       "    <thead>\n",
       "        <tr>\n",
       "            <th>Name</th> <th>Year</th> <th>Date</th> <th>Text</th>\n",
       "        </tr>\n",
       "    </thead>\n",
       "    <tbody>\n",
       "        <tr>\n",
       "            <td>Donald J. Trump</td> <td>2017</td> <td>February 28</td> <td>Thank you very much. Mr. Speaker, Mr. Vice President, Me ...</td>\n",
       "        </tr>\n",
       "    </tbody>\n",
       "        <tr>\n",
       "            <td>Barack Obama   </td> <td>2013</td> <td>February 12</td> <td>Please, everybody, have a seat. Mr. Speaker, Mr. Vice Pr ...</td>\n",
       "        </tr>\n",
       "    </tbody>\n",
       "        <tr>\n",
       "            <td>Barack Obama   </td> <td>2014</td> <td>January 28 </td> <td>The President. Mr. Speaker, Mr. Vice President, Members  ...</td>\n",
       "        </tr>\n",
       "    </tbody>\n",
       "        <tr>\n",
       "            <td>Barack Obama   </td> <td>2015</td> <td>January 20 </td> <td>The President. Mr. Speaker, Mr. Vice President, Members  ...</td>\n",
       "        </tr>\n",
       "    </tbody>\n",
       "        <tr>\n",
       "            <td>Barack Obama   </td> <td>2016</td> <td>January 12 </td> <td>Thank you. Mr. Speaker, Mr. Vice President, Members of C ...</td>\n",
       "        </tr>\n",
       "    </tbody>\n",
       "        <tr>\n",
       "            <td>Barack Obama   </td> <td>2009</td> <td>February 24</td> <td>Madam Speaker, Mr. Vice President, Members of Congress,  ...</td>\n",
       "        </tr>\n",
       "    </tbody>\n",
       "        <tr>\n",
       "            <td>Barack Obama   </td> <td>2010</td> <td>January 27 </td> <td>Madam Speaker, Vice President Biden, Members of Congress ...</td>\n",
       "        </tr>\n",
       "    </tbody>\n",
       "        <tr>\n",
       "            <td>Barack Obama   </td> <td>2011</td> <td>January 25 </td> <td>Mr. Speaker, Mr. Vice President, Members of Congress, di ...</td>\n",
       "        </tr>\n",
       "    </tbody>\n",
       "        <tr>\n",
       "            <td>Barack Obama   </td> <td>2012</td> <td>January 24 </td> <td>Mr. Speaker, Mr. Vice President, Members of Congress, di ...</td>\n",
       "        </tr>\n",
       "    </tbody>\n",
       "        <tr>\n",
       "            <td>George W. Bush </td> <td>2005</td> <td>February 2 </td> <td>Mr. Speaker, Vice President Cheney, Members of Congress, ...</td>\n",
       "        </tr>\n",
       "    </tbody>\n",
       "</table>\n",
       "<p>... (233 rows omitted)</p"
      ],
      "text/plain": [
       "Name            | Year | Date        | Text\n",
       "Donald J. Trump | 2017 | February 28 | Thank you very much. Mr. Speaker, Mr. Vice President, Me ...\n",
       "Barack Obama    | 2013 | February 12 | Please, everybody, have a seat. Mr. Speaker, Mr. Vice Pr ...\n",
       "Barack Obama    | 2014 | January 28  | The President. Mr. Speaker, Mr. Vice President, Members  ...\n",
       "Barack Obama    | 2015 | January 20  | The President. Mr. Speaker, Mr. Vice President, Members  ...\n",
       "Barack Obama    | 2016 | January 12  | Thank you. Mr. Speaker, Mr. Vice President, Members of C ...\n",
       "Barack Obama    | 2009 | February 24 | Madam Speaker, Mr. Vice President, Members of Congress,  ...\n",
       "Barack Obama    | 2010 | January 27  | Madam Speaker, Vice President Biden, Members of Congress ...\n",
       "Barack Obama    | 2011 | January 25  | Mr. Speaker, Mr. Vice President, Members of Congress, di ...\n",
       "Barack Obama    | 2012 | January 24  | Mr. Speaker, Mr. Vice President, Members of Congress, di ...\n",
       "George W. Bush  | 2005 | February 2  | Mr. Speaker, Vice President Cheney, Members of Congress, ...\n",
       "... (233 rows omitted)"
      ]
     },
     "execution_count": 15,
     "metadata": {},
     "output_type": "execute_result"
    }
   ],
   "source": [
    "corpus_table = t.with_rows(corpus)\n",
    "corpus_table"
   ]
  },
  {
   "cell_type": "code",
   "execution_count": 16,
   "metadata": {},
   "outputs": [
    {
     "data": {
      "text/html": [
       "<table border=\"1\" class=\"dataframe\">\n",
       "    <thead>\n",
       "        <tr>\n",
       "            <th>Name</th> <th>Year</th> <th>Date</th> <th>Text</th>\n",
       "        </tr>\n",
       "    </thead>\n",
       "    <tbody>\n",
       "        <tr>\n",
       "            <td>Donald J. Trump</td> <td>2017</td> <td>February 28</td> <td>Thank you very much. Mr. Speaker, Mr. Vice President, Me ...</td>\n",
       "        </tr>\n",
       "    </tbody>\n",
       "        <tr>\n",
       "            <td>Barack Obama   </td> <td>2013</td> <td>February 12</td> <td>Please, everybody, have a seat. Mr. Speaker, Mr. Vice Pr ...</td>\n",
       "        </tr>\n",
       "    </tbody>\n",
       "        <tr>\n",
       "            <td>Barack Obama   </td> <td>2014</td> <td>January 28 </td> <td>The President. Mr. Speaker, Mr. Vice President, Members  ...</td>\n",
       "        </tr>\n",
       "    </tbody>\n",
       "        <tr>\n",
       "            <td>Barack Obama   </td> <td>2015</td> <td>January 20 </td> <td>The President. Mr. Speaker, Mr. Vice President, Members  ...</td>\n",
       "        </tr>\n",
       "    </tbody>\n",
       "        <tr>\n",
       "            <td>Barack Obama   </td> <td>2016</td> <td>January 12 </td> <td>Thank you. Mr. Speaker, Mr. Vice President, Members of C ...</td>\n",
       "        </tr>\n",
       "    </tbody>\n",
       "        <tr>\n",
       "            <td>Barack Obama   </td> <td>2009</td> <td>February 24</td> <td>Madam Speaker, Mr. Vice President, Members of Congress,  ...</td>\n",
       "        </tr>\n",
       "    </tbody>\n",
       "        <tr>\n",
       "            <td>Barack Obama   </td> <td>2010</td> <td>January 27 </td> <td>Madam Speaker, Vice President Biden, Members of Congress ...</td>\n",
       "        </tr>\n",
       "    </tbody>\n",
       "        <tr>\n",
       "            <td>Barack Obama   </td> <td>2011</td> <td>January 25 </td> <td>Mr. Speaker, Mr. Vice President, Members of Congress, di ...</td>\n",
       "        </tr>\n",
       "    </tbody>\n",
       "        <tr>\n",
       "            <td>Barack Obama   </td> <td>2012</td> <td>January 24 </td> <td>Mr. Speaker, Mr. Vice President, Members of Congress, di ...</td>\n",
       "        </tr>\n",
       "    </tbody>\n",
       "        <tr>\n",
       "            <td>George W. Bush </td> <td>2005</td> <td>February 2 </td> <td>Mr. Speaker, Vice President Cheney, Members of Congress, ...</td>\n",
       "        </tr>\n",
       "    </tbody>\n",
       "</table>\n",
       "<p>... (233 rows omitted)</p"
      ],
      "text/plain": [
       "Name            | Year | Date        | Text\n",
       "Donald J. Trump | 2017 | February 28 | Thank you very much. Mr. Speaker, Mr. Vice President, Me ...\n",
       "Barack Obama    | 2013 | February 12 | Please, everybody, have a seat. Mr. Speaker, Mr. Vice Pr ...\n",
       "Barack Obama    | 2014 | January 28  | The President. Mr. Speaker, Mr. Vice President, Members  ...\n",
       "Barack Obama    | 2015 | January 20  | The President. Mr. Speaker, Mr. Vice President, Members  ...\n",
       "Barack Obama    | 2016 | January 12  | Thank you. Mr. Speaker, Mr. Vice President, Members of C ...\n",
       "Barack Obama    | 2009 | February 24 | Madam Speaker, Mr. Vice President, Members of Congress,  ...\n",
       "Barack Obama    | 2010 | January 27  | Madam Speaker, Vice President Biden, Members of Congress ...\n",
       "Barack Obama    | 2011 | January 25  | Mr. Speaker, Mr. Vice President, Members of Congress, di ...\n",
       "Barack Obama    | 2012 | January 24  | Mr. Speaker, Mr. Vice President, Members of Congress, di ...\n",
       "George W. Bush  | 2005 | February 2  | Mr. Speaker, Vice President Cheney, Members of Congress, ...\n",
       "... (233 rows omitted)"
      ]
     },
     "execution_count": 16,
     "metadata": {},
     "output_type": "execute_result"
    }
   ],
   "source": [
    "#Changing \"Years\" to floats    \n",
    "years = corpus_table.apply(float, \"Year\" )\n",
    "corpus_table = corpus_table.with_columns(\"Year_float\", years).select(\"Name\", \"Year_float\", \"Date\", \"Text\").relabeled(\"Year_float\",\"Year\")\n",
    "corpus_table"
   ]
  },
  {
   "cell_type": "code",
   "execution_count": 17,
   "metadata": {
    "collapsed": true
   },
   "outputs": [],
   "source": [
    "# Importing US Growth Data\n",
    "e_data_table = Table.read_table(\"US_growth.csv\", sep=\";\").select(0,1)"
   ]
  },
  {
   "cell_type": "code",
   "execution_count": 18,
   "metadata": {},
   "outputs": [
    {
     "data": {
      "text/html": [
       "<table border=\"1\" class=\"dataframe\">\n",
       "    <thead>\n",
       "        <tr>\n",
       "            <th>Year</th> <th>Growth Rate</th>\n",
       "        </tr>\n",
       "    </thead>\n",
       "    <tbody>\n",
       "        <tr>\n",
       "            <td>1961</td> <td>2.3        </td>\n",
       "        </tr>\n",
       "    </tbody>\n",
       "        <tr>\n",
       "            <td>1962</td> <td>6.1        </td>\n",
       "        </tr>\n",
       "    </tbody>\n",
       "        <tr>\n",
       "            <td>1963</td> <td>4.4        </td>\n",
       "        </tr>\n",
       "    </tbody>\n",
       "        <tr>\n",
       "            <td>1964</td> <td>5.8        </td>\n",
       "        </tr>\n",
       "    </tbody>\n",
       "        <tr>\n",
       "            <td>1965</td> <td>6.4        </td>\n",
       "        </tr>\n",
       "    </tbody>\n",
       "        <tr>\n",
       "            <td>1966</td> <td>6.5        </td>\n",
       "        </tr>\n",
       "    </tbody>\n",
       "        <tr>\n",
       "            <td>1967</td> <td>2.5        </td>\n",
       "        </tr>\n",
       "    </tbody>\n",
       "        <tr>\n",
       "            <td>1968</td> <td>4.8        </td>\n",
       "        </tr>\n",
       "    </tbody>\n",
       "        <tr>\n",
       "            <td>1969</td> <td>3.1        </td>\n",
       "        </tr>\n",
       "    </tbody>\n",
       "        <tr>\n",
       "            <td>1970</td> <td>3.20681    </td>\n",
       "        </tr>\n",
       "    </tbody>\n",
       "</table>\n",
       "<p>... (46 rows omitted)</p"
      ],
      "text/plain": [
       "Year | Growth Rate\n",
       "1961 | 2.3\n",
       "1962 | 6.1\n",
       "1963 | 4.4\n",
       "1964 | 5.8\n",
       "1965 | 6.4\n",
       "1966 | 6.5\n",
       "1967 | 2.5\n",
       "1968 | 4.8\n",
       "1969 | 3.1\n",
       "1970 | 3.20681\n",
       "... (46 rows omitted)"
      ]
     },
     "execution_count": 18,
     "metadata": {},
     "output_type": "execute_result"
    }
   ],
   "source": [
    "# Changing commaseperator from \",\" to \".\"\n",
    "growth_rates = []\n",
    "\n",
    "for i in e_data_table.column(\"GDP growth (annual %)\"):\n",
    "    rate = float(i.replace(\",\", \".\"))\n",
    "    growth_rates = np.append(growth_rates, rate)\n",
    "\n",
    "#Changing \"Years\" to floats    \n",
    "years = e_data_table.apply(float, \"Year\" )\n",
    "\n",
    "e_data_table = e_data_table.with_columns(\"Growth Rate\", growth_rates, \"Year_float\", years).select(\"Year_float\", \"Growth Rate\")\n",
    "e_data_table = e_data_table.relabeled(\"Year_float\",\"Year\")\n",
    "e_data_table"
   ]
  },
  {
   "cell_type": "code",
   "execution_count": 19,
   "metadata": {},
   "outputs": [
    {
     "data": {
      "text/html": [
       "<table border=\"1\" class=\"dataframe\">\n",
       "    <thead>\n",
       "        <tr>\n",
       "            <th>Year</th> <th>Name</th> <th>Date</th> <th>Text</th> <th>Growth Rate</th>\n",
       "        </tr>\n",
       "    </thead>\n",
       "    <tbody>\n",
       "        <tr>\n",
       "            <td>1961</td> <td>John F. Kennedy     </td> <td>January 30</td> <td>[As delivered in person before a joint session] Mr. Spea ...</td> <td>2.3        </td>\n",
       "        </tr>\n",
       "    </tbody>\n",
       "        <tr>\n",
       "            <td>1961</td> <td>Dwight D. Eisenhower</td> <td>January 12</td> <td>To the Congress of the United States: Once again it is m ...</td> <td>2.3        </td>\n",
       "        </tr>\n",
       "    </tbody>\n",
       "        <tr>\n",
       "            <td>1961</td> <td>Dwight D. Eisenhower</td> <td>January 12</td> <td>To the Congress of the United States: Once again it is m ...</td> <td>2.3        </td>\n",
       "        </tr>\n",
       "    </tbody>\n",
       "        <tr>\n",
       "            <td>1962</td> <td>John F. Kennedy     </td> <td>January 11</td> <td>[As delivered in person before a joint session] Mr. Vice ...</td> <td>6.1        </td>\n",
       "        </tr>\n",
       "    </tbody>\n",
       "        <tr>\n",
       "            <td>1963</td> <td>John F. Kennedy     </td> <td>January 14</td> <td>[ As delivered in person before a joint session ] Mr. Vi ...</td> <td>4.4        </td>\n",
       "        </tr>\n",
       "    </tbody>\n",
       "        <tr>\n",
       "            <td>1964</td> <td>Lyndon B. Johnson   </td> <td>January 8 </td> <td>[ As delivered in person before a joint session ] Mr. Sp ...</td> <td>5.8        </td>\n",
       "        </tr>\n",
       "    </tbody>\n",
       "        <tr>\n",
       "            <td>1965</td> <td>Lyndon B. Johnson   </td> <td>January 4 </td> <td>Mr. Speaker, Mr. President, Members of the Congress, my  ...</td> <td>6.4        </td>\n",
       "        </tr>\n",
       "    </tbody>\n",
       "        <tr>\n",
       "            <td>1966</td> <td>Lyndon B. Johnson   </td> <td>January 12</td> <td>[ Delivered in person before a joint session at 9:04 p.m ...</td> <td>6.5        </td>\n",
       "        </tr>\n",
       "    </tbody>\n",
       "        <tr>\n",
       "            <td>1967</td> <td>Lyndon B. Johnson   </td> <td>January 10</td> <td>[Delivered in person before a joint session at 9:33 p.m. ...</td> <td>2.5        </td>\n",
       "        </tr>\n",
       "    </tbody>\n",
       "        <tr>\n",
       "            <td>1968</td> <td>Lyndon B. Johnson   </td> <td>January 17</td> <td>[Delivered in person before a joint session at 9:05 p.m. ...</td> <td>4.8        </td>\n",
       "        </tr>\n",
       "    </tbody>\n",
       "</table>\n",
       "<p>... (54 rows omitted)</p"
      ],
      "text/plain": [
       "Year | Name                 | Date       | Text                                                         | Growth Rate\n",
       "1961 | John F. Kennedy      | January 30 | [As delivered in person before a joint session] Mr. Spea ... | 2.3\n",
       "1961 | Dwight D. Eisenhower | January 12 | To the Congress of the United States: Once again it is m ... | 2.3\n",
       "1961 | Dwight D. Eisenhower | January 12 | To the Congress of the United States: Once again it is m ... | 2.3\n",
       "1962 | John F. Kennedy      | January 11 | [As delivered in person before a joint session] Mr. Vice ... | 6.1\n",
       "1963 | John F. Kennedy      | January 14 | [ As delivered in person before a joint session ] Mr. Vi ... | 4.4\n",
       "1964 | Lyndon B. Johnson    | January 8  | [ As delivered in person before a joint session ] Mr. Sp ... | 5.8\n",
       "1965 | Lyndon B. Johnson    | January 4  | Mr. Speaker, Mr. President, Members of the Congress, my  ... | 6.4\n",
       "1966 | Lyndon B. Johnson    | January 12 | [ Delivered in person before a joint session at 9:04 p.m ... | 6.5\n",
       "1967 | Lyndon B. Johnson    | January 10 | [Delivered in person before a joint session at 9:33 p.m. ... | 2.5\n",
       "1968 | Lyndon B. Johnson    | January 17 | [Delivered in person before a joint session at 9:05 p.m. ... | 4.8\n",
       "... (54 rows omitted)"
      ]
     },
     "execution_count": 19,
     "metadata": {},
     "output_type": "execute_result"
    }
   ],
   "source": [
    "# Merging the economic and speech data\n",
    "full_data = corpus_table.join(\"Year\", e_data_table, \"Year\")\n",
    "full_data"
   ]
  },
  {
   "cell_type": "code",
   "execution_count": 20,
   "metadata": {},
   "outputs": [
    {
     "data": {
      "text/plain": [
       "array([ 0,  1,  2, ..., 61, 62, 63])"
      ]
     },
     "execution_count": 20,
     "metadata": {},
     "output_type": "execute_result"
    }
   ],
   "source": [
    "# Creating a list of index values\n",
    "index_list = np.arange(0, full_data.num_rows,1)\n",
    "index_list"
   ]
  },
  {
   "cell_type": "code",
   "execution_count": 21,
   "metadata": {},
   "outputs": [
    {
     "data": {
      "text/html": [
       "<table border=\"1\" class=\"dataframe\">\n",
       "    <thead>\n",
       "        <tr>\n",
       "            <th>Year</th> <th>Name</th> <th>Date</th> <th>Text</th> <th>Growth Rate</th> <th>index</th>\n",
       "        </tr>\n",
       "    </thead>\n",
       "    <tbody>\n",
       "        <tr>\n",
       "            <td>1961</td> <td>John F. Kennedy     </td> <td>January 30</td> <td>[As delivered in person before a joint session] Mr. Spea ...</td> <td>2.3        </td> <td>0    </td>\n",
       "        </tr>\n",
       "    </tbody>\n",
       "        <tr>\n",
       "            <td>1961</td> <td>Dwight D. Eisenhower</td> <td>January 12</td> <td>To the Congress of the United States: Once again it is m ...</td> <td>2.3        </td> <td>1    </td>\n",
       "        </tr>\n",
       "    </tbody>\n",
       "        <tr>\n",
       "            <td>1961</td> <td>Dwight D. Eisenhower</td> <td>January 12</td> <td>To the Congress of the United States: Once again it is m ...</td> <td>2.3        </td> <td>2    </td>\n",
       "        </tr>\n",
       "    </tbody>\n",
       "        <tr>\n",
       "            <td>1962</td> <td>John F. Kennedy     </td> <td>January 11</td> <td>[As delivered in person before a joint session] Mr. Vice ...</td> <td>6.1        </td> <td>3    </td>\n",
       "        </tr>\n",
       "    </tbody>\n",
       "        <tr>\n",
       "            <td>1963</td> <td>John F. Kennedy     </td> <td>January 14</td> <td>[ As delivered in person before a joint session ] Mr. Vi ...</td> <td>4.4        </td> <td>4    </td>\n",
       "        </tr>\n",
       "    </tbody>\n",
       "        <tr>\n",
       "            <td>1964</td> <td>Lyndon B. Johnson   </td> <td>January 8 </td> <td>[ As delivered in person before a joint session ] Mr. Sp ...</td> <td>5.8        </td> <td>5    </td>\n",
       "        </tr>\n",
       "    </tbody>\n",
       "        <tr>\n",
       "            <td>1965</td> <td>Lyndon B. Johnson   </td> <td>January 4 </td> <td>Mr. Speaker, Mr. President, Members of the Congress, my  ...</td> <td>6.4        </td> <td>6    </td>\n",
       "        </tr>\n",
       "    </tbody>\n",
       "        <tr>\n",
       "            <td>1966</td> <td>Lyndon B. Johnson   </td> <td>January 12</td> <td>[ Delivered in person before a joint session at 9:04 p.m ...</td> <td>6.5        </td> <td>7    </td>\n",
       "        </tr>\n",
       "    </tbody>\n",
       "        <tr>\n",
       "            <td>1967</td> <td>Lyndon B. Johnson   </td> <td>January 10</td> <td>[Delivered in person before a joint session at 9:33 p.m. ...</td> <td>2.5        </td> <td>8    </td>\n",
       "        </tr>\n",
       "    </tbody>\n",
       "        <tr>\n",
       "            <td>1968</td> <td>Lyndon B. Johnson   </td> <td>January 17</td> <td>[Delivered in person before a joint session at 9:05 p.m. ...</td> <td>4.8        </td> <td>9    </td>\n",
       "        </tr>\n",
       "    </tbody>\n",
       "</table>\n",
       "<p>... (54 rows omitted)</p"
      ],
      "text/plain": [
       "Year | Name                 | Date       | Text                                                         | Growth Rate | index\n",
       "1961 | John F. Kennedy      | January 30 | [As delivered in person before a joint session] Mr. Spea ... | 2.3         | 0\n",
       "1961 | Dwight D. Eisenhower | January 12 | To the Congress of the United States: Once again it is m ... | 2.3         | 1\n",
       "1961 | Dwight D. Eisenhower | January 12 | To the Congress of the United States: Once again it is m ... | 2.3         | 2\n",
       "1962 | John F. Kennedy      | January 11 | [As delivered in person before a joint session] Mr. Vice ... | 6.1         | 3\n",
       "1963 | John F. Kennedy      | January 14 | [ As delivered in person before a joint session ] Mr. Vi ... | 4.4         | 4\n",
       "1964 | Lyndon B. Johnson    | January 8  | [ As delivered in person before a joint session ] Mr. Sp ... | 5.8         | 5\n",
       "1965 | Lyndon B. Johnson    | January 4  | Mr. Speaker, Mr. President, Members of the Congress, my  ... | 6.4         | 6\n",
       "1966 | Lyndon B. Johnson    | January 12 | [ Delivered in person before a joint session at 9:04 p.m ... | 6.5         | 7\n",
       "1967 | Lyndon B. Johnson    | January 10 | [Delivered in person before a joint session at 9:33 p.m. ... | 2.5         | 8\n",
       "1968 | Lyndon B. Johnson    | January 17 | [Delivered in person before a joint session at 9:05 p.m. ... | 4.8         | 9\n",
       "... (54 rows omitted)"
      ]
     },
     "execution_count": 21,
     "metadata": {},
     "output_type": "execute_result"
    }
   ],
   "source": [
    "# Adding a column with index values\n",
    "full_data.with_column(\"index\",index_list)"
   ]
  },
  {
   "cell_type": "code",
   "execution_count": 22,
   "metadata": {
    "collapsed": true
   },
   "outputs": [],
   "source": [
    "# list of indices for written speeches\n",
    "list_of_written=[1,2,14,16, 21, 23, 25, 27, 28]"
   ]
  },
  {
   "cell_type": "code",
   "execution_count": 23,
   "metadata": {},
   "outputs": [
    {
     "data": {
      "text/html": [
       "<table border=\"1\" class=\"dataframe\">\n",
       "    <thead>\n",
       "        <tr>\n",
       "            <th>Year</th> <th>Name</th> <th>Date</th> <th>Text</th> <th>Growth Rate</th>\n",
       "        </tr>\n",
       "    </thead>\n",
       "    <tbody>\n",
       "        <tr>\n",
       "            <td>1961</td> <td>John F. Kennedy  </td> <td>January 30</td> <td>[As delivered in person before a joint session] Mr. Spea ...</td> <td>2.3        </td>\n",
       "        </tr>\n",
       "    </tbody>\n",
       "        <tr>\n",
       "            <td>1962</td> <td>John F. Kennedy  </td> <td>January 11</td> <td>[As delivered in person before a joint session] Mr. Vice ...</td> <td>6.1        </td>\n",
       "        </tr>\n",
       "    </tbody>\n",
       "        <tr>\n",
       "            <td>1963</td> <td>John F. Kennedy  </td> <td>January 14</td> <td>[ As delivered in person before a joint session ] Mr. Vi ...</td> <td>4.4        </td>\n",
       "        </tr>\n",
       "    </tbody>\n",
       "        <tr>\n",
       "            <td>1964</td> <td>Lyndon B. Johnson</td> <td>January 8 </td> <td>[ As delivered in person before a joint session ] Mr. Sp ...</td> <td>5.8        </td>\n",
       "        </tr>\n",
       "    </tbody>\n",
       "        <tr>\n",
       "            <td>1965</td> <td>Lyndon B. Johnson</td> <td>January 4 </td> <td>Mr. Speaker, Mr. President, Members of the Congress, my  ...</td> <td>6.4        </td>\n",
       "        </tr>\n",
       "    </tbody>\n",
       "        <tr>\n",
       "            <td>1966</td> <td>Lyndon B. Johnson</td> <td>January 12</td> <td>[ Delivered in person before a joint session at 9:04 p.m ...</td> <td>6.5        </td>\n",
       "        </tr>\n",
       "    </tbody>\n",
       "        <tr>\n",
       "            <td>1967</td> <td>Lyndon B. Johnson</td> <td>January 10</td> <td>[Delivered in person before a joint session at 9:33 p.m. ...</td> <td>2.5        </td>\n",
       "        </tr>\n",
       "    </tbody>\n",
       "        <tr>\n",
       "            <td>1968</td> <td>Lyndon B. Johnson</td> <td>January 17</td> <td>[Delivered in person before a joint session at 9:05 p.m. ...</td> <td>4.8        </td>\n",
       "        </tr>\n",
       "    </tbody>\n",
       "        <tr>\n",
       "            <td>1969</td> <td>Lyndon B. Johnson</td> <td>January 14</td> <td>Mr. Speaker, Mr. President, Members of the Congress and  ...</td> <td>3.1        </td>\n",
       "        </tr>\n",
       "    </tbody>\n",
       "        <tr>\n",
       "            <td>1970</td> <td>Richard Nixon    </td> <td>January 22</td> <td>Mr. Speaker, Mr. President, my colleagues in the Congres ...</td> <td>3.20681    </td>\n",
       "        </tr>\n",
       "    </tbody>\n",
       "</table>\n",
       "<p>... (45 rows omitted)</p"
      ],
      "text/plain": [
       "Year | Name              | Date       | Text                                                         | Growth Rate\n",
       "1961 | John F. Kennedy   | January 30 | [As delivered in person before a joint session] Mr. Spea ... | 2.3\n",
       "1962 | John F. Kennedy   | January 11 | [As delivered in person before a joint session] Mr. Vice ... | 6.1\n",
       "1963 | John F. Kennedy   | January 14 | [ As delivered in person before a joint session ] Mr. Vi ... | 4.4\n",
       "1964 | Lyndon B. Johnson | January 8  | [ As delivered in person before a joint session ] Mr. Sp ... | 5.8\n",
       "1965 | Lyndon B. Johnson | January 4  | Mr. Speaker, Mr. President, Members of the Congress, my  ... | 6.4\n",
       "1966 | Lyndon B. Johnson | January 12 | [ Delivered in person before a joint session at 9:04 p.m ... | 6.5\n",
       "1967 | Lyndon B. Johnson | January 10 | [Delivered in person before a joint session at 9:33 p.m. ... | 2.5\n",
       "1968 | Lyndon B. Johnson | January 17 | [Delivered in person before a joint session at 9:05 p.m. ... | 4.8\n",
       "1969 | Lyndon B. Johnson | January 14 | Mr. Speaker, Mr. President, Members of the Congress and  ... | 3.1\n",
       "1970 | Richard Nixon     | January 22 | Mr. Speaker, Mr. President, my colleagues in the Congres ... | 3.20681\n",
       "... (45 rows omitted)"
      ]
     },
     "execution_count": 23,
     "metadata": {},
     "output_type": "execute_result"
    }
   ],
   "source": [
    "# Excluding the written speeches so we only have spoken speeches left\n",
    "final_data = full_data.exclude(list_of_written)\n",
    "final_data"
   ]
  },
  {
   "cell_type": "code",
   "execution_count": 12,
   "metadata": {},
   "outputs": [
    {
     "ename": "NameError",
     "evalue": "name 'final_data' is not defined",
     "output_type": "error",
     "traceback": [
      "\u001b[1;31m---------------------------------------------------------------------------\u001b[0m",
      "\u001b[1;31mNameError\u001b[0m                                 Traceback (most recent call last)",
      "\u001b[1;32m<ipython-input-12-356c30e7e8d6>\u001b[0m in \u001b[0;36m<module>\u001b[1;34m()\u001b[0m\n\u001b[0;32m      1\u001b[0m \u001b[1;31m## Exporting data as a CSV\u001b[0m\u001b[1;33m\u001b[0m\u001b[1;33m\u001b[0m\u001b[0m\n\u001b[1;32m----> 2\u001b[1;33m \u001b[0mfinal_data\u001b[0m\u001b[1;33m.\u001b[0m\u001b[0mto_df\u001b[0m\u001b[1;33m(\u001b[0m\u001b[1;33m)\u001b[0m\u001b[1;33m.\u001b[0m\u001b[0mto_csv\u001b[0m\u001b[1;33m(\u001b[0m\u001b[1;34m\"final_data.csv\"\u001b[0m\u001b[1;33m)\u001b[0m\u001b[1;33m\u001b[0m\u001b[0m\n\u001b[0m",
      "\u001b[1;31mNameError\u001b[0m: name 'final_data' is not defined"
     ]
    }
   ],
   "source": [
    "## Exporting data as a CSV\n",
    "final_data.to_df().to_csv(\"final_data.csv\")"
   ]
  },
  {
   "cell_type": "markdown",
   "metadata": {},
   "source": [
    "## Data analysis"
   ]
  },
  {
   "cell_type": "markdown",
   "metadata": {},
   "source": [
    "** Egocentrism **"
   ]
  },
  {
   "cell_type": "code",
   "execution_count": 48,
   "metadata": {},
   "outputs": [
    {
     "data": {
      "text/html": [
       "<table border=\"1\" class=\"dataframe\">\n",
       "    <thead>\n",
       "        <tr>\n",
       "            <th>Year</th> <th>Name</th> <th>Date</th> <th>Text</th> <th>Growth Rate</th>\n",
       "        </tr>\n",
       "    </thead>\n",
       "    <tbody>\n",
       "        <tr>\n",
       "            <td>1961</td> <td>John F. Kennedy  </td> <td>January 30</td> <td>[As delivered in person before a joint session] Mr. Spea ...</td> <td>2.3        </td>\n",
       "        </tr>\n",
       "    </tbody>\n",
       "        <tr>\n",
       "            <td>1962</td> <td>John F. Kennedy  </td> <td>January 11</td> <td>[As delivered in person before a joint session] Mr. Vice ...</td> <td>6.1        </td>\n",
       "        </tr>\n",
       "    </tbody>\n",
       "        <tr>\n",
       "            <td>1963</td> <td>John F. Kennedy  </td> <td>January 14</td> <td>[ As delivered in person before a joint session ] Mr. Vi ...</td> <td>4.4        </td>\n",
       "        </tr>\n",
       "    </tbody>\n",
       "        <tr>\n",
       "            <td>1964</td> <td>Lyndon B. Johnson</td> <td>January 8 </td> <td>[ As delivered in person before a joint session ] Mr. Sp ...</td> <td>5.8        </td>\n",
       "        </tr>\n",
       "    </tbody>\n",
       "        <tr>\n",
       "            <td>1965</td> <td>Lyndon B. Johnson</td> <td>January 4 </td> <td>Mr. Speaker, Mr. President, Members of the Congress, my  ...</td> <td>6.4        </td>\n",
       "        </tr>\n",
       "    </tbody>\n",
       "        <tr>\n",
       "            <td>1966</td> <td>Lyndon B. Johnson</td> <td>January 12</td> <td>[ Delivered in person before a joint session at 9:04 p.m ...</td> <td>6.5        </td>\n",
       "        </tr>\n",
       "    </tbody>\n",
       "        <tr>\n",
       "            <td>1967</td> <td>Lyndon B. Johnson</td> <td>January 10</td> <td>[Delivered in person before a joint session at 9:33 p.m. ...</td> <td>2.5        </td>\n",
       "        </tr>\n",
       "    </tbody>\n",
       "        <tr>\n",
       "            <td>1968</td> <td>Lyndon B. Johnson</td> <td>January 17</td> <td>[Delivered in person before a joint session at 9:05 p.m. ...</td> <td>4.8        </td>\n",
       "        </tr>\n",
       "    </tbody>\n",
       "        <tr>\n",
       "            <td>1969</td> <td>Lyndon B. Johnson</td> <td>January 14</td> <td>Mr. Speaker, Mr. President, Members of the Congress and  ...</td> <td>3.1        </td>\n",
       "        </tr>\n",
       "    </tbody>\n",
       "        <tr>\n",
       "            <td>1970</td> <td>Richard Nixon    </td> <td>January 22</td> <td>Mr. Speaker, Mr. President, my colleagues in the Congres ...</td> <td>3.20681    </td>\n",
       "        </tr>\n",
       "    </tbody>\n",
       "</table>\n",
       "<p>... (45 rows omitted)</p"
      ],
      "text/plain": [
       "Year | Name              | Date       | Text                                                         | Growth Rate\n",
       "1961 | John F. Kennedy   | January 30 | [As delivered in person before a joint session] Mr. Spea ... | 2.3\n",
       "1962 | John F. Kennedy   | January 11 | [As delivered in person before a joint session] Mr. Vice ... | 6.1\n",
       "1963 | John F. Kennedy   | January 14 | [ As delivered in person before a joint session ] Mr. Vi ... | 4.4\n",
       "1964 | Lyndon B. Johnson | January 8  | [ As delivered in person before a joint session ] Mr. Sp ... | 5.8\n",
       "1965 | Lyndon B. Johnson | January 4  | Mr. Speaker, Mr. President, Members of the Congress, my  ... | 6.4\n",
       "1966 | Lyndon B. Johnson | January 12 | [ Delivered in person before a joint session at 9:04 p.m ... | 6.5\n",
       "1967 | Lyndon B. Johnson | January 10 | [Delivered in person before a joint session at 9:33 p.m. ... | 2.5\n",
       "1968 | Lyndon B. Johnson | January 17 | [Delivered in person before a joint session at 9:05 p.m. ... | 4.8\n",
       "1969 | Lyndon B. Johnson | January 14 | Mr. Speaker, Mr. President, Members of the Congress and  ... | 3.1\n",
       "1970 | Richard Nixon     | January 22 | Mr. Speaker, Mr. President, my colleagues in the Congres ... | 3.20681\n",
       "... (45 rows omitted)"
      ]
     },
     "execution_count": 48,
     "metadata": {},
     "output_type": "execute_result"
    }
   ],
   "source": [
    "# Importing US Growth Data\n",
    "data = Table.read_table(\"final_data.csv\").drop(0)\n",
    "data"
   ]
  },
  {
   "cell_type": "code",
   "execution_count": 49,
   "metadata": {
    "collapsed": true
   },
   "outputs": [],
   "source": [
    "def egocentrism_function(text):\n",
    "    \"\"\"Function has a text as input and return the proportion of egocentric words (\"i\", \"me\", \"my\" and \"myself\")\"\"\"\n",
    "    text_lower = text.lower().strip()\n",
    "    text_no_punctuation = ([char for char in text_lower if char not in punctuation])\n",
    "    text_no_punctuation = \"\".join(text_no_punctuation)\n",
    "    text_no_punctuation = text_no_punctuation.replace(\"im\", \"i\").replace(\"ill\", \"i\").replace(\"id\", \"i\").replace(\"ive\", \"i\")\n",
    "    words = text_no_punctuation.split()\n",
    "    \n",
    "    egocentrims = []\n",
    "    \n",
    "    for word in words:\n",
    "        if word == 'i':\n",
    "            egocentrims = np.append(egocentrims, 1)\n",
    "        if word == 'me':\n",
    "            egocentrims = np.append(egocentrims, 1)\n",
    "        if word == 'my':\n",
    "            egocentrims = np.append(egocentrims, 1)\n",
    "        if word == 'myself':\n",
    "            egocentrims = np.append(egocentrims, 1)\n",
    "        else:\n",
    "            egocentrims = np.append(egocentrims, 0)\n",
    "\n",
    "    egocentrism_count = np.count_nonzero(egocentrims)\n",
    "    egocentrism_proportion = egocentrism_count / len(words)\n",
    "    return egocentrism_proportion"
   ]
  },
  {
   "cell_type": "code",
   "execution_count": 50,
   "metadata": {},
   "outputs": [
    {
     "data": {
      "text/plain": [
       "array([ 0.00985317,  0.00698975,  0.00525131, ...,\n",
       "        0.01316731,  0.01572234,  0.01427386])"
      ]
     },
     "execution_count": 50,
     "metadata": {},
     "output_type": "execute_result"
    }
   ],
   "source": [
    "speeches = data.column(\"Text\")\n",
    "proportions = []\n",
    "\n",
    "for speech in speeches:\n",
    "    proportion = egocentrism_function(speech)\n",
    "    proportions = np.append(proportions, proportion)\n",
    "\n",
    "proportions"
   ]
  },
  {
   "cell_type": "code",
   "execution_count": 51,
   "metadata": {},
   "outputs": [
    {
     "data": {
      "text/html": [
       "<table border=\"1\" class=\"dataframe\">\n",
       "    <thead>\n",
       "        <tr>\n",
       "            <th>Year</th> <th>Name</th> <th>Date</th> <th>Text</th> <th>Growth Rate</th> <th>Egocentrism</th>\n",
       "        </tr>\n",
       "    </thead>\n",
       "    <tbody>\n",
       "        <tr>\n",
       "            <td>1961</td> <td>John F. Kennedy  </td> <td>January 30</td> <td>[As delivered in person before a joint session] Mr. Spea ...</td> <td>2.3        </td> <td>0.00985317 </td>\n",
       "        </tr>\n",
       "    </tbody>\n",
       "        <tr>\n",
       "            <td>1962</td> <td>John F. Kennedy  </td> <td>January 11</td> <td>[As delivered in person before a joint session] Mr. Vice ...</td> <td>6.1        </td> <td>0.00698975 </td>\n",
       "        </tr>\n",
       "    </tbody>\n",
       "        <tr>\n",
       "            <td>1963</td> <td>John F. Kennedy  </td> <td>January 14</td> <td>[ As delivered in person before a joint session ] Mr. Vi ...</td> <td>4.4        </td> <td>0.00525131 </td>\n",
       "        </tr>\n",
       "    </tbody>\n",
       "        <tr>\n",
       "            <td>1964</td> <td>Lyndon B. Johnson</td> <td>January 8 </td> <td>[ As delivered in person before a joint session ] Mr. Sp ...</td> <td>5.8        </td> <td>0.00751174 </td>\n",
       "        </tr>\n",
       "    </tbody>\n",
       "        <tr>\n",
       "            <td>1965</td> <td>Lyndon B. Johnson</td> <td>January 4 </td> <td>Mr. Speaker, Mr. President, Members of the Congress, my  ...</td> <td>6.4        </td> <td>0.0158946  </td>\n",
       "        </tr>\n",
       "    </tbody>\n",
       "        <tr>\n",
       "            <td>1966</td> <td>Lyndon B. Johnson</td> <td>January 12</td> <td>[ Delivered in person before a joint session at 9:04 p.m ...</td> <td>6.5        </td> <td>0.0127273  </td>\n",
       "        </tr>\n",
       "    </tbody>\n",
       "        <tr>\n",
       "            <td>1967</td> <td>Lyndon B. Johnson</td> <td>January 10</td> <td>[Delivered in person before a joint session at 9:33 p.m. ...</td> <td>2.5        </td> <td>0.0132078  </td>\n",
       "        </tr>\n",
       "    </tbody>\n",
       "        <tr>\n",
       "            <td>1968</td> <td>Lyndon B. Johnson</td> <td>January 17</td> <td>[Delivered in person before a joint session at 9:05 p.m. ...</td> <td>4.8        </td> <td>0.015586   </td>\n",
       "        </tr>\n",
       "    </tbody>\n",
       "        <tr>\n",
       "            <td>1969</td> <td>Lyndon B. Johnson</td> <td>January 14</td> <td>Mr. Speaker, Mr. President, Members of the Congress and  ...</td> <td>3.1        </td> <td>0.0278933  </td>\n",
       "        </tr>\n",
       "    </tbody>\n",
       "        <tr>\n",
       "            <td>1970</td> <td>Richard Nixon    </td> <td>January 22</td> <td>Mr. Speaker, Mr. President, my colleagues in the Congres ...</td> <td>3.20681    </td> <td>0.0107744  </td>\n",
       "        </tr>\n",
       "    </tbody>\n",
       "</table>\n",
       "<p>... (45 rows omitted)</p"
      ],
      "text/plain": [
       "Year | Name              | Date       | Text                                                         | Growth Rate | Egocentrism\n",
       "1961 | John F. Kennedy   | January 30 | [As delivered in person before a joint session] Mr. Spea ... | 2.3         | 0.00985317\n",
       "1962 | John F. Kennedy   | January 11 | [As delivered in person before a joint session] Mr. Vice ... | 6.1         | 0.00698975\n",
       "1963 | John F. Kennedy   | January 14 | [ As delivered in person before a joint session ] Mr. Vi ... | 4.4         | 0.00525131\n",
       "1964 | Lyndon B. Johnson | January 8  | [ As delivered in person before a joint session ] Mr. Sp ... | 5.8         | 0.00751174\n",
       "1965 | Lyndon B. Johnson | January 4  | Mr. Speaker, Mr. President, Members of the Congress, my  ... | 6.4         | 0.0158946\n",
       "1966 | Lyndon B. Johnson | January 12 | [ Delivered in person before a joint session at 9:04 p.m ... | 6.5         | 0.0127273\n",
       "1967 | Lyndon B. Johnson | January 10 | [Delivered in person before a joint session at 9:33 p.m. ... | 2.5         | 0.0132078\n",
       "1968 | Lyndon B. Johnson | January 17 | [Delivered in person before a joint session at 9:05 p.m. ... | 4.8         | 0.015586\n",
       "1969 | Lyndon B. Johnson | January 14 | Mr. Speaker, Mr. President, Members of the Congress and  ... | 3.1         | 0.0278933\n",
       "1970 | Richard Nixon     | January 22 | Mr. Speaker, Mr. President, my colleagues in the Congres ... | 3.20681     | 0.0107744\n",
       "... (45 rows omitted)"
      ]
     },
     "execution_count": 51,
     "metadata": {},
     "output_type": "execute_result"
    }
   ],
   "source": [
    "data_egocentrism = data.with_column(\"Egocentrism\", proportions)\n",
    "data_egocentrism\n"
   ]
  },
  {
   "cell_type": "code",
   "execution_count": 52,
   "metadata": {},
   "outputs": [
    {
     "name": "stdout",
     "output_type": "stream",
     "text": [
      "The correlation coefficient is 0.007908164779331324\n",
      "The p-value is 0.9543043930238604\n"
     ]
    },
    {
     "data": {
      "image/png": "[encoded data removed]",
      "text/plain": [
       "<matplotlib.figure.Figure at 0x254c8cf73c8>"
      ]
     },
     "metadata": {},
     "output_type": "display_data"
    }
   ],
   "source": [
    "# Linear regression\n",
    "data_egocentrism.scatter(\"Year\", \"Egocentrism\", fit_line = True)\n",
    "r = np.corrcoef(data_egocentrism[\"Year\"],data_egocentrism[\"Egocentrism\"]).item(1)\n",
    "p_value = make_array((pearsonr(data_egocentrism[\"Year\"],data_egocentrism[\"Egocentrism\"]))).item(1)\n",
    "print(\"The correlation coefficient is\",r)\n",
    "print(\"The p-value is\",p_value)"
   ]
  },
  {
   "cell_type": "code",
   "execution_count": 53,
   "metadata": {},
   "outputs": [
    {
     "data": {
      "text/plain": [
       "array([[ 1.        ,  0.00790816],\n",
       "       [ 0.00790816,  1.        ]])"
      ]
     },
     "execution_count": 53,
     "metadata": {},
     "output_type": "execute_result"
    }
   ],
   "source": [
    "np.corrcoef(data_egocentrism[\"Year\"],data_egocentrism[\"Egocentrism\"])"
   ]
  },
  {
   "cell_type": "code",
   "execution_count": 54,
   "metadata": {},
   "outputs": [
    {
     "data": {
      "text/html": [
       "<table border=\"1\" class=\"dataframe\">\n",
       "    <thead>\n",
       "        <tr>\n",
       "            <th>Year</th> <th>Name</th> <th>Date</th> <th>Text</th> <th>Growth Rate</th> <th>Egocentrism</th>\n",
       "        </tr>\n",
       "    </thead>\n",
       "    <tbody>\n",
       "        <tr>\n",
       "            <td>1992</td> <td>George Bush       </td> <td>January 28 </td> <td>Mr. Speaker and Mr. President, distinguished Members of  ...</td> <td>3.5554     </td> <td>0.030309   </td>\n",
       "        </tr>\n",
       "    </tbody>\n",
       "        <tr>\n",
       "            <td>1969</td> <td>Lyndon B. Johnson </td> <td>January 14 </td> <td>Mr. Speaker, Mr. President, Members of the Congress and  ...</td> <td>3.1        </td> <td>0.0278933  </td>\n",
       "        </tr>\n",
       "    </tbody>\n",
       "        <tr>\n",
       "            <td>1989</td> <td>George Bush       </td> <td>February 9 </td> <td>Mr. Speaker, Mr. President, and distinguished Members of ...</td> <td>3.68052    </td> <td>0.0262391  </td>\n",
       "        </tr>\n",
       "    </tbody>\n",
       "        <tr>\n",
       "            <td>1977</td> <td>Gerald R. Ford    </td> <td>January 12 </td> <td>Mr. Speaker, Mr. Vice President, Members of the 95th Con ...</td> <td>4.6086     </td> <td>0.0231668  </td>\n",
       "        </tr>\n",
       "    </tbody>\n",
       "        <tr>\n",
       "            <td>1993</td> <td>William J. Clinton</td> <td>February 17</td> <td>Mr. President, Mr. Speaker, Members of the House and the ...</td> <td>2.74586    </td> <td>0.0198657  </td>\n",
       "        </tr>\n",
       "    </tbody>\n",
       "        <tr>\n",
       "            <td>2000</td> <td>William J. Clinton</td> <td>January 27 </td> <td>Mr. Speaker, Mr. Vice President, Members of Congress, ho ...</td> <td>4.09218    </td> <td>0.0194497  </td>\n",
       "        </tr>\n",
       "    </tbody>\n",
       "        <tr>\n",
       "            <td>1976</td> <td>Gerald R. Ford    </td> <td>January 19 </td> <td>Mr. Speaker, Mr. Vice President, Members of the 94th Con ...</td> <td>5.38609    </td> <td>0.0192036  </td>\n",
       "        </tr>\n",
       "    </tbody>\n",
       "        <tr>\n",
       "            <td>1974</td> <td>Richard Nixon     </td> <td>January 30 </td> <td>Mr. Speaker, Mr. President, my colleagues in the Congres ...</td> <td>-0.517155  </td> <td>0.0185651  </td>\n",
       "        </tr>\n",
       "    </tbody>\n",
       "        <tr>\n",
       "            <td>2001</td> <td>George W. Bush    </td> <td>February 27</td> <td>Mr. Speaker, Mr. Vice President, Members of Congress: It ...</td> <td>0.975982   </td> <td>0.0183402  </td>\n",
       "        </tr>\n",
       "    </tbody>\n",
       "        <tr>\n",
       "            <td>1975</td> <td>Gerald R. Ford    </td> <td>January 15 </td> <td>Mr. Speaker, Mr. Vice President, Members of the 94th Con ...</td> <td>-0.197679  </td> <td>0.0177875  </td>\n",
       "        </tr>\n",
       "    </tbody>\n",
       "</table>\n",
       "<p>... (45 rows omitted)</p"
      ],
      "text/plain": [
       "Year | Name               | Date        | Text                                                         | Growth Rate | Egocentrism\n",
       "1992 | George Bush        | January 28  | Mr. Speaker and Mr. President, distinguished Members of  ... | 3.5554      | 0.030309\n",
       "1969 | Lyndon B. Johnson  | January 14  | Mr. Speaker, Mr. President, Members of the Congress and  ... | 3.1         | 0.0278933\n",
       "1989 | George Bush        | February 9  | Mr. Speaker, Mr. President, and distinguished Members of ... | 3.68052     | 0.0262391\n",
       "1977 | Gerald R. Ford     | January 12  | Mr. Speaker, Mr. Vice President, Members of the 95th Con ... | 4.6086      | 0.0231668\n",
       "1993 | William J. Clinton | February 17 | Mr. President, Mr. Speaker, Members of the House and the ... | 2.74586     | 0.0198657\n",
       "2000 | William J. Clinton | January 27  | Mr. Speaker, Mr. Vice President, Members of Congress, ho ... | 4.09218     | 0.0194497\n",
       "1976 | Gerald R. Ford     | January 19  | Mr. Speaker, Mr. Vice President, Members of the 94th Con ... | 5.38609     | 0.0192036\n",
       "1974 | Richard Nixon      | January 30  | Mr. Speaker, Mr. President, my colleagues in the Congres ... | -0.517155   | 0.0185651\n",
       "2001 | George W. Bush     | February 27 | Mr. Speaker, Mr. Vice President, Members of Congress: It ... | 0.975982    | 0.0183402\n",
       "1975 | Gerald R. Ford     | January 15  | Mr. Speaker, Mr. Vice President, Members of the 94th Con ... | -0.197679   | 0.0177875\n",
       "... (45 rows omitted)"
      ]
     },
     "execution_count": 54,
     "metadata": {},
     "output_type": "execute_result"
    }
   ],
   "source": [
    "# George Bush's speech in 1992 was the most egocentric speech in the data set\n",
    "data_egocentrism.sort(\"Egocentrism\", descending = True)"
   ]
  },
  {
   "cell_type": "markdown",
   "metadata": {
    "collapsed": true
   },
   "source": [
    "** Language difficulty **"
   ]
  },
  {
   "cell_type": "code",
   "execution_count": 55,
   "metadata": {
    "collapsed": true
   },
   "outputs": [],
   "source": [
    "def lix(text):\n",
    "    \"\"\"Function has a text as input and compute the lix value\"\"\"\n",
    "    #Cleaning text   \n",
    "    text_lower = text.lower().strip()\n",
    "    \n",
    "    # Compute number of senteces defines by number of \".!:?\" \n",
    "    end_sentence_punctuation = \".!:?\" \n",
    "    num_sentences = len(([char for char in text_lower if char in end_sentence_punctuation]))\n",
    "    \n",
    "    # Compute number of words\n",
    "    text_no_punctuation = ([char for char in text_lower if char not in punctuation])\n",
    "    text_no_punctuation = \"\".join(text_no_punctuation)\n",
    "    text_no_punctuation = text_no_punctuation.replace(\"im\", \"i\").replace(\"ill\", \"i\").replace(\"id\", \"i\").replace(\"ive\", \"i\")\n",
    "    words = text_no_punctuation.split()\n",
    "    num_words = len(words)\n",
    "    \n",
    "    # Compute number of words above 6 characters\n",
    "    list_num_char = []\n",
    "    for i in words:\n",
    "        num_char = len(i)\n",
    "        list_num_char = np.append(list_num_char, num_char)\n",
    "    \n",
    "    num_long_words = np.count_nonzero(list_num_char > 6)\n",
    "    \n",
    "    # Compute lix-score    \n",
    "    lix_value = (num_words/num_sentences)+(num_long_words*100)/num_words\n",
    "    \n",
    "    return lix_value\n",
    "    "
   ]
  },
  {
   "cell_type": "code",
   "execution_count": 56,
   "metadata": {
    "scrolled": true
   },
   "outputs": [
    {
     "data": {
      "text/plain": [
       "array([ 50.42118858,  48.88857894,  46.27344631,\n",
       "       ...,  38.41579264,  37.05628765,\n",
       "        36.08101742])"
      ]
     },
     "execution_count": 56,
     "metadata": {},
     "output_type": "execute_result"
    }
   ],
   "source": [
    "# Run lix-function on every speech\n",
    "speeches = data.column(\"Text\")\n",
    "lix_values = make_array()\n",
    "\n",
    "for speech in speeches:\n",
    "    lix_value = lix(speech)\n",
    "    lix_values = np.append(lix_values, lix_value)\n",
    "\n",
    "lix_values"
   ]
  },
  {
   "cell_type": "code",
   "execution_count": 57,
   "metadata": {},
   "outputs": [
    {
     "data": {
      "text/html": [
       "<table border=\"1\" class=\"dataframe\">\n",
       "    <thead>\n",
       "        <tr>\n",
       "            <th>Year</th> <th>Name</th> <th>Date</th> <th>Text</th> <th>Growth Rate</th> <th>Egocentrism</th> <th>Lix value</th>\n",
       "        </tr>\n",
       "    </thead>\n",
       "    <tbody>\n",
       "        <tr>\n",
       "            <td>1961</td> <td>John F. Kennedy  </td> <td>January 30</td> <td>[As delivered in person before a joint session] Mr. Spea ...</td> <td>2.3        </td> <td>0.00985317 </td> <td>50.4212  </td>\n",
       "        </tr>\n",
       "    </tbody>\n",
       "        <tr>\n",
       "            <td>1962</td> <td>John F. Kennedy  </td> <td>January 11</td> <td>[As delivered in person before a joint session] Mr. Vice ...</td> <td>6.1        </td> <td>0.00698975 </td> <td>48.8886  </td>\n",
       "        </tr>\n",
       "    </tbody>\n",
       "        <tr>\n",
       "            <td>1963</td> <td>John F. Kennedy  </td> <td>January 14</td> <td>[ As delivered in person before a joint session ] Mr. Vi ...</td> <td>4.4        </td> <td>0.00525131 </td> <td>46.2734  </td>\n",
       "        </tr>\n",
       "    </tbody>\n",
       "        <tr>\n",
       "            <td>1964</td> <td>Lyndon B. Johnson</td> <td>January 8 </td> <td>[ As delivered in person before a joint session ] Mr. Sp ...</td> <td>5.8        </td> <td>0.00751174 </td> <td>45.0524  </td>\n",
       "        </tr>\n",
       "    </tbody>\n",
       "        <tr>\n",
       "            <td>1965</td> <td>Lyndon B. Johnson</td> <td>January 4 </td> <td>Mr. Speaker, Mr. President, Members of the Congress, my  ...</td> <td>6.4        </td> <td>0.0158946  </td> <td>39.1011  </td>\n",
       "        </tr>\n",
       "    </tbody>\n",
       "        <tr>\n",
       "            <td>1966</td> <td>Lyndon B. Johnson</td> <td>January 12</td> <td>[ Delivered in person before a joint session at 9:04 p.m ...</td> <td>6.5        </td> <td>0.0127273  </td> <td>41.8671  </td>\n",
       "        </tr>\n",
       "    </tbody>\n",
       "        <tr>\n",
       "            <td>1967</td> <td>Lyndon B. Johnson</td> <td>January 10</td> <td>[Delivered in person before a joint session at 9:33 p.m. ...</td> <td>2.5        </td> <td>0.0132078  </td> <td>41.9647  </td>\n",
       "        </tr>\n",
       "    </tbody>\n",
       "        <tr>\n",
       "            <td>1968</td> <td>Lyndon B. Johnson</td> <td>January 17</td> <td>[Delivered in person before a joint session at 9:05 p.m. ...</td> <td>4.8        </td> <td>0.015586   </td> <td>41.1494  </td>\n",
       "        </tr>\n",
       "    </tbody>\n",
       "        <tr>\n",
       "            <td>1969</td> <td>Lyndon B. Johnson</td> <td>January 14</td> <td>Mr. Speaker, Mr. President, Members of the Congress and  ...</td> <td>3.1        </td> <td>0.0278933  </td> <td>40.2802  </td>\n",
       "        </tr>\n",
       "    </tbody>\n",
       "        <tr>\n",
       "            <td>1970</td> <td>Richard Nixon    </td> <td>January 22</td> <td>Mr. Speaker, Mr. President, my colleagues in the Congres ...</td> <td>3.20681    </td> <td>0.0107744  </td> <td>42.361   </td>\n",
       "        </tr>\n",
       "    </tbody>\n",
       "</table>\n",
       "<p>... (45 rows omitted)</p"
      ],
      "text/plain": [
       "Year | Name              | Date       | Text                                                         | Growth Rate | Egocentrism | Lix value\n",
       "1961 | John F. Kennedy   | January 30 | [As delivered in person before a joint session] Mr. Spea ... | 2.3         | 0.00985317  | 50.4212\n",
       "1962 | John F. Kennedy   | January 11 | [As delivered in person before a joint session] Mr. Vice ... | 6.1         | 0.00698975  | 48.8886\n",
       "1963 | John F. Kennedy   | January 14 | [ As delivered in person before a joint session ] Mr. Vi ... | 4.4         | 0.00525131  | 46.2734\n",
       "1964 | Lyndon B. Johnson | January 8  | [ As delivered in person before a joint session ] Mr. Sp ... | 5.8         | 0.00751174  | 45.0524\n",
       "1965 | Lyndon B. Johnson | January 4  | Mr. Speaker, Mr. President, Members of the Congress, my  ... | 6.4         | 0.0158946   | 39.1011\n",
       "1966 | Lyndon B. Johnson | January 12 | [ Delivered in person before a joint session at 9:04 p.m ... | 6.5         | 0.0127273   | 41.8671\n",
       "1967 | Lyndon B. Johnson | January 10 | [Delivered in person before a joint session at 9:33 p.m. ... | 2.5         | 0.0132078   | 41.9647\n",
       "1968 | Lyndon B. Johnson | January 17 | [Delivered in person before a joint session at 9:05 p.m. ... | 4.8         | 0.015586    | 41.1494\n",
       "1969 | Lyndon B. Johnson | January 14 | Mr. Speaker, Mr. President, Members of the Congress and  ... | 3.1         | 0.0278933   | 40.2802\n",
       "1970 | Richard Nixon     | January 22 | Mr. Speaker, Mr. President, my colleagues in the Congres ... | 3.20681     | 0.0107744   | 42.361\n",
       "... (45 rows omitted)"
      ]
     },
     "execution_count": 57,
     "metadata": {},
     "output_type": "execute_result"
    }
   ],
   "source": [
    "data_lix = data_egocentrism.with_column(\"Lix value\", lix_values)\n",
    "data_lix"
   ]
  },
  {
   "cell_type": "code",
   "execution_count": 59,
   "metadata": {},
   "outputs": [
    {
     "name": "stdout",
     "output_type": "stream",
     "text": [
      "The correlation coefficient is -0.5674696261887595\n",
      "The p-value is 6.247580152329038e-06\n"
     ]
    },
    {
     "data": {
      "image/png": "[encoded data removed]",
      "text/plain": [
       "<matplotlib.figure.Figure at 0x254c91e70f0>"
      ]
     },
     "metadata": {},
     "output_type": "display_data"
    }
   ],
   "source": [
    "# Linear regression\n",
    "data_lix.scatter(\"Year\", \"Lix value\", fit_line = True)\n",
    "r = np.corrcoef(data_lix[\"Year\"],data_lix[\"Lix value\"]).item(1)\n",
    "p_value = make_array(pearsonr(data_lix[\"Year\"],data_lix[\"Lix value\"])).item(1)\n",
    "print(\"The correlation coefficient is\",r)\n",
    "print(\"The p-value is\",p_value)"
   ]
  },
  {
   "cell_type": "code",
   "execution_count": 60,
   "metadata": {
    "collapsed": true
   },
   "outputs": [],
   "source": [
    "def alternative_complexity(text):\n",
    "    \"\"\"Compute an alternative measure for complexity by dividing the number of unique words by the total number of words\"\"\"\n",
    "    text_lower = text.lower().strip()\n",
    "    text_no_punctuation = ([char for char in text_lower if char not in punctuation])\n",
    "    text_no_punctuation = \"\".join(text_no_punctuation)\n",
    "    text_no_punctuation = text_no_punctuation.replace(\"im\", \"i\").replace(\"ill\", \"i\").replace(\"id\", \"i\").replace(\"ive\", \"i\")\n",
    "    words = text_no_punctuation.split()\n",
    "    unique_words = list(set(words))\n",
    "    \n",
    "    measure = len(unique_words)/len(words)\n",
    "    return measure"
   ]
  },
  {
   "cell_type": "code",
   "execution_count": 61,
   "metadata": {},
   "outputs": [
    {
     "data": {
      "text/plain": [
       "array([ 0.31858578,  0.30677229,  0.30363841, ...,\n",
       "        0.26234435,  0.25437556,  0.26755187])"
      ]
     },
     "execution_count": 61,
     "metadata": {},
     "output_type": "execute_result"
    }
   ],
   "source": [
    "# Run alternative complexity-function on every speech\n",
    "speeches = data.column(\"Text\")\n",
    "complex_values = make_array()\n",
    "\n",
    "for speech in speeches:\n",
    "    complex_value = alternative_complexity(speech)\n",
    "    complex_values = np.append(complex_values, complex_value)\n",
    "\n",
    "complex_values"
   ]
  },
  {
   "cell_type": "code",
   "execution_count": 62,
   "metadata": {},
   "outputs": [
    {
     "data": {
      "text/html": [
       "<table border=\"1\" class=\"dataframe\">\n",
       "    <thead>\n",
       "        <tr>\n",
       "            <th>Year</th> <th>Name</th> <th>Date</th> <th>Text</th> <th>Growth Rate</th> <th>Egocentrism</th> <th>Lix value</th> <th>Alternative complexity</th>\n",
       "        </tr>\n",
       "    </thead>\n",
       "    <tbody>\n",
       "        <tr>\n",
       "            <td>1961</td> <td>John F. Kennedy  </td> <td>January 30</td> <td>[As delivered in person before a joint session] Mr. Spea ...</td> <td>2.3        </td> <td>0.00985317 </td> <td>50.4212  </td> <td>0.318586              </td>\n",
       "        </tr>\n",
       "    </tbody>\n",
       "        <tr>\n",
       "            <td>1962</td> <td>John F. Kennedy  </td> <td>January 11</td> <td>[As delivered in person before a joint session] Mr. Vice ...</td> <td>6.1        </td> <td>0.00698975 </td> <td>48.8886  </td> <td>0.306772              </td>\n",
       "        </tr>\n",
       "    </tbody>\n",
       "        <tr>\n",
       "            <td>1963</td> <td>John F. Kennedy  </td> <td>January 14</td> <td>[ As delivered in person before a joint session ] Mr. Vi ...</td> <td>4.4        </td> <td>0.00525131 </td> <td>46.2734  </td> <td>0.303638              </td>\n",
       "        </tr>\n",
       "    </tbody>\n",
       "        <tr>\n",
       "            <td>1964</td> <td>Lyndon B. Johnson</td> <td>January 8 </td> <td>[ As delivered in person before a joint session ] Mr. Sp ...</td> <td>5.8        </td> <td>0.00751174 </td> <td>45.0524  </td> <td>0.32989               </td>\n",
       "        </tr>\n",
       "    </tbody>\n",
       "        <tr>\n",
       "            <td>1965</td> <td>Lyndon B. Johnson</td> <td>January 4 </td> <td>Mr. Speaker, Mr. President, Members of the Congress, my  ...</td> <td>6.4        </td> <td>0.0158946  </td> <td>39.1011  </td> <td>0.281562              </td>\n",
       "        </tr>\n",
       "    </tbody>\n",
       "        <tr>\n",
       "            <td>1966</td> <td>Lyndon B. Johnson</td> <td>January 12</td> <td>[ Delivered in person before a joint session at 9:04 p.m ...</td> <td>6.5        </td> <td>0.0127273  </td> <td>41.8671  </td> <td>0.261091              </td>\n",
       "        </tr>\n",
       "    </tbody>\n",
       "        <tr>\n",
       "            <td>1967</td> <td>Lyndon B. Johnson</td> <td>January 10</td> <td>[Delivered in person before a joint session at 9:33 p.m. ...</td> <td>2.5        </td> <td>0.0132078  </td> <td>41.9647  </td> <td>0.249824              </td>\n",
       "        </tr>\n",
       "    </tbody>\n",
       "        <tr>\n",
       "            <td>1968</td> <td>Lyndon B. Johnson</td> <td>January 17</td> <td>[Delivered in person before a joint session at 9:05 p.m. ...</td> <td>4.8        </td> <td>0.015586   </td> <td>41.1494  </td> <td>0.292394              </td>\n",
       "        </tr>\n",
       "    </tbody>\n",
       "        <tr>\n",
       "            <td>1969</td> <td>Lyndon B. Johnson</td> <td>January 14</td> <td>Mr. Speaker, Mr. President, Members of the Congress and  ...</td> <td>3.1        </td> <td>0.0278933  </td> <td>40.2802  </td> <td>0.284071              </td>\n",
       "        </tr>\n",
       "    </tbody>\n",
       "        <tr>\n",
       "            <td>1970</td> <td>Richard Nixon    </td> <td>January 22</td> <td>Mr. Speaker, Mr. President, my colleagues in the Congres ...</td> <td>3.20681    </td> <td>0.0107744  </td> <td>42.361   </td> <td>0.270258              </td>\n",
       "        </tr>\n",
       "    </tbody>\n",
       "</table>\n",
       "<p>... (45 rows omitted)</p"
      ],
      "text/plain": [
       "Year | Name              | Date       | Text                                                         | Growth Rate | Egocentrism | Lix value | Alternative complexity\n",
       "1961 | John F. Kennedy   | January 30 | [As delivered in person before a joint session] Mr. Spea ... | 2.3         | 0.00985317  | 50.4212   | 0.318586\n",
       "1962 | John F. Kennedy   | January 11 | [As delivered in person before a joint session] Mr. Vice ... | 6.1         | 0.00698975  | 48.8886   | 0.306772\n",
       "1963 | John F. Kennedy   | January 14 | [ As delivered in person before a joint session ] Mr. Vi ... | 4.4         | 0.00525131  | 46.2734   | 0.303638\n",
       "1964 | Lyndon B. Johnson | January 8  | [ As delivered in person before a joint session ] Mr. Sp ... | 5.8         | 0.00751174  | 45.0524   | 0.32989\n",
       "1965 | Lyndon B. Johnson | January 4  | Mr. Speaker, Mr. President, Members of the Congress, my  ... | 6.4         | 0.0158946   | 39.1011   | 0.281562\n",
       "1966 | Lyndon B. Johnson | January 12 | [ Delivered in person before a joint session at 9:04 p.m ... | 6.5         | 0.0127273   | 41.8671   | 0.261091\n",
       "1967 | Lyndon B. Johnson | January 10 | [Delivered in person before a joint session at 9:33 p.m. ... | 2.5         | 0.0132078   | 41.9647   | 0.249824\n",
       "1968 | Lyndon B. Johnson | January 17 | [Delivered in person before a joint session at 9:05 p.m. ... | 4.8         | 0.015586    | 41.1494   | 0.292394\n",
       "1969 | Lyndon B. Johnson | January 14 | Mr. Speaker, Mr. President, Members of the Congress and  ... | 3.1         | 0.0278933   | 40.2802   | 0.284071\n",
       "1970 | Richard Nixon     | January 22 | Mr. Speaker, Mr. President, my colleagues in the Congres ... | 3.20681     | 0.0107744   | 42.361    | 0.270258\n",
       "... (45 rows omitted)"
      ]
     },
     "execution_count": 62,
     "metadata": {},
     "output_type": "execute_result"
    }
   ],
   "source": [
    "data_complex = data_lix.with_column(\"Alternative complexity\", complex_values)\n",
    "data_complex"
   ]
  },
  {
   "cell_type": "code",
   "execution_count": 63,
   "metadata": {},
   "outputs": [
    {
     "name": "stdout",
     "output_type": "stream",
     "text": [
      "The correlation coefficient is -0.3271359892102729\n",
      "The p-value is 0.014774042566723902\n"
     ]
    },
    {
     "data": {
      "image/png": "[encoded data removed]",
      "text/plain": [
       "<matplotlib.figure.Figure at 0x254c8f9ca20>"
      ]
     },
     "metadata": {},
     "output_type": "display_data"
    }
   ],
   "source": [
    "# Linear regression\n",
    "data_complex.scatter(\"Year\", \"Alternative complexity\", fit_line = True)\n",
    "r = np.corrcoef(data_complex[\"Year\"],data_complex[\"Alternative complexity\"]).item(1)\n",
    "p_value = make_array(pearsonr(data_complex[\"Year\"],data_complex[\"Alternative complexity\"])).item(1)\n",
    "print(\"The correlation coefficient is\",r)\n",
    "print(\"The p-value is\",p_value)"
   ]
  },
  {
   "cell_type": "markdown",
   "metadata": {},
   "source": [
    "** Sentiment analysis **"
   ]
  },
  {
   "cell_type": "code",
   "execution_count": 64,
   "metadata": {},
   "outputs": [],
   "source": [
    "#Import and install the package textblob for sentiment analysis\n",
    "#!pip install --no-cache-dir textblob\n",
    "#!python -m textblob.download_corpora\n",
    "from textblob import TextBlob"
   ]
  },
  {
   "cell_type": "code",
   "execution_count": 65,
   "metadata": {
    "collapsed": true
   },
   "outputs": [],
   "source": [
    "def sentiment_function(text):\n",
    "    \"Takes a speech as a input and return a average of how positive a text is, where 1 is perfectly positive and -1 is perfectly negative\"\n",
    "    blob_object = TextBlob(text)\n",
    "    \n",
    "    sentiments = []\n",
    "    for s in blob_object.sentences:\n",
    "        sentiments.append(s.sentiment.polarity)\n",
    "    sentiments\n",
    "    \n",
    "    sentiment_score = np.mean(sentiments)\n",
    "    return sentiment_score\n",
    "    \n",
    "    "
   ]
  },
  {
   "cell_type": "code",
   "execution_count": 67,
   "metadata": {},
   "outputs": [
    {
     "data": {
      "text/plain": [
       "array([ 0.09001507,  0.1085363 ,  0.10110908, ...,\n",
       "        0.12457026,  0.11695085,  0.07816278])"
      ]
     },
     "execution_count": 67,
     "metadata": {},
     "output_type": "execute_result"
    }
   ],
   "source": [
    "#computing the sentimentscore for all speeches in the data set\n",
    "speeches = data.column(\"Text\")\n",
    "sentiment_values = make_array()\n",
    "\n",
    "for speech in speeches:\n",
    "    sentiment_value = sentiment_function(speech)\n",
    "    sentiment_values = np.append(sentiment_values, sentiment_value)\n",
    "\n",
    "sentiment_values"
   ]
  },
  {
   "cell_type": "code",
   "execution_count": 68,
   "metadata": {},
   "outputs": [
    {
     "data": {
      "text/html": [
       "<table border=\"1\" class=\"dataframe\">\n",
       "    <thead>\n",
       "        <tr>\n",
       "            <th>Year</th> <th>Name</th> <th>Date</th> <th>Text</th> <th>Growth Rate</th> <th>Egocentrism</th> <th>Lix value</th> <th>Sentiment value</th>\n",
       "        </tr>\n",
       "    </thead>\n",
       "    <tbody>\n",
       "        <tr>\n",
       "            <td>1961</td> <td>John F. Kennedy  </td> <td>January 30</td> <td>[As delivered in person before a joint session] Mr. Spea ...</td> <td>2.3        </td> <td>0.00985317 </td> <td>50.4212  </td> <td>0.0900151      </td>\n",
       "        </tr>\n",
       "    </tbody>\n",
       "        <tr>\n",
       "            <td>1962</td> <td>John F. Kennedy  </td> <td>January 11</td> <td>[As delivered in person before a joint session] Mr. Vice ...</td> <td>6.1        </td> <td>0.00698975 </td> <td>48.8886  </td> <td>0.108536       </td>\n",
       "        </tr>\n",
       "    </tbody>\n",
       "        <tr>\n",
       "            <td>1963</td> <td>John F. Kennedy  </td> <td>January 14</td> <td>[ As delivered in person before a joint session ] Mr. Vi ...</td> <td>4.4        </td> <td>0.00525131 </td> <td>46.2734  </td> <td>0.101109       </td>\n",
       "        </tr>\n",
       "    </tbody>\n",
       "        <tr>\n",
       "            <td>1964</td> <td>Lyndon B. Johnson</td> <td>January 8 </td> <td>[ As delivered in person before a joint session ] Mr. Sp ...</td> <td>5.8        </td> <td>0.00751174 </td> <td>45.0524  </td> <td>0.133232       </td>\n",
       "        </tr>\n",
       "    </tbody>\n",
       "        <tr>\n",
       "            <td>1965</td> <td>Lyndon B. Johnson</td> <td>January 4 </td> <td>Mr. Speaker, Mr. President, Members of the Congress, my  ...</td> <td>6.4        </td> <td>0.0158946  </td> <td>39.1011  </td> <td>0.125411       </td>\n",
       "        </tr>\n",
       "    </tbody>\n",
       "        <tr>\n",
       "            <td>1966</td> <td>Lyndon B. Johnson</td> <td>January 12</td> <td>[ Delivered in person before a joint session at 9:04 p.m ...</td> <td>6.5        </td> <td>0.0127273  </td> <td>41.8671  </td> <td>0.107141       </td>\n",
       "        </tr>\n",
       "    </tbody>\n",
       "        <tr>\n",
       "            <td>1967</td> <td>Lyndon B. Johnson</td> <td>January 10</td> <td>[Delivered in person before a joint session at 9:33 p.m. ...</td> <td>2.5        </td> <td>0.0132078  </td> <td>41.9647  </td> <td>0.124754       </td>\n",
       "        </tr>\n",
       "    </tbody>\n",
       "        <tr>\n",
       "            <td>1968</td> <td>Lyndon B. Johnson</td> <td>January 17</td> <td>[Delivered in person before a joint session at 9:05 p.m. ...</td> <td>4.8        </td> <td>0.015586   </td> <td>41.1494  </td> <td>0.0716292      </td>\n",
       "        </tr>\n",
       "    </tbody>\n",
       "        <tr>\n",
       "            <td>1969</td> <td>Lyndon B. Johnson</td> <td>January 14</td> <td>Mr. Speaker, Mr. President, Members of the Congress and  ...</td> <td>3.1        </td> <td>0.0278933  </td> <td>40.2802  </td> <td>0.105708       </td>\n",
       "        </tr>\n",
       "    </tbody>\n",
       "        <tr>\n",
       "            <td>1970</td> <td>Richard Nixon    </td> <td>January 22</td> <td>Mr. Speaker, Mr. President, my colleagues in the Congres ...</td> <td>3.20681    </td> <td>0.0107744  </td> <td>42.361   </td> <td>0.13194        </td>\n",
       "        </tr>\n",
       "    </tbody>\n",
       "</table>\n",
       "<p>... (45 rows omitted)</p"
      ],
      "text/plain": [
       "Year | Name              | Date       | Text                                                         | Growth Rate | Egocentrism | Lix value | Sentiment value\n",
       "1961 | John F. Kennedy   | January 30 | [As delivered in person before a joint session] Mr. Spea ... | 2.3         | 0.00985317  | 50.4212   | 0.0900151\n",
       "1962 | John F. Kennedy   | January 11 | [As delivered in person before a joint session] Mr. Vice ... | 6.1         | 0.00698975  | 48.8886   | 0.108536\n",
       "1963 | John F. Kennedy   | January 14 | [ As delivered in person before a joint session ] Mr. Vi ... | 4.4         | 0.00525131  | 46.2734   | 0.101109\n",
       "1964 | Lyndon B. Johnson | January 8  | [ As delivered in person before a joint session ] Mr. Sp ... | 5.8         | 0.00751174  | 45.0524   | 0.133232\n",
       "1965 | Lyndon B. Johnson | January 4  | Mr. Speaker, Mr. President, Members of the Congress, my  ... | 6.4         | 0.0158946   | 39.1011   | 0.125411\n",
       "1966 | Lyndon B. Johnson | January 12 | [ Delivered in person before a joint session at 9:04 p.m ... | 6.5         | 0.0127273   | 41.8671   | 0.107141\n",
       "1967 | Lyndon B. Johnson | January 10 | [Delivered in person before a joint session at 9:33 p.m. ... | 2.5         | 0.0132078   | 41.9647   | 0.124754\n",
       "1968 | Lyndon B. Johnson | January 17 | [Delivered in person before a joint session at 9:05 p.m. ... | 4.8         | 0.015586    | 41.1494   | 0.0716292\n",
       "1969 | Lyndon B. Johnson | January 14 | Mr. Speaker, Mr. President, Members of the Congress and  ... | 3.1         | 0.0278933   | 40.2802   | 0.105708\n",
       "1970 | Richard Nixon     | January 22 | Mr. Speaker, Mr. President, my colleagues in the Congres ... | 3.20681     | 0.0107744   | 42.361    | 0.13194\n",
       "... (45 rows omitted)"
      ]
     },
     "execution_count": 68,
     "metadata": {},
     "output_type": "execute_result"
    }
   ],
   "source": [
    "data_sentiment = data_lix.with_column(\"Sentiment value\", sentiment_values)\n",
    "data_sentiment"
   ]
  },
  {
   "cell_type": "code",
   "execution_count": 71,
   "metadata": {},
   "outputs": [
    {
     "name": "stdout",
     "output_type": "stream",
     "text": [
      "The correlation coefficient is 0.2705931954096512\n",
      "The p-value is 0.045702901253453526\n"
     ]
    },
    {
     "data": {
      "image/png": "[encoded data removed]",
      "text/plain": [
       "<matplotlib.figure.Figure at 0x254d0d89f98>"
      ]
     },
     "metadata": {},
     "output_type": "display_data"
    }
   ],
   "source": [
    "# Linear regression\n",
    "data_sentiment.scatter(\"Sentiment value\", \"Growth Rate\", fit_line=True)\n",
    "r = np.corrcoef(data_sentiment[\"Sentiment value\"],data_lix[\"Growth Rate\"]).item(1)\n",
    "p_value = make_array(pearsonr(data_sentiment[\"Sentiment value\"],data_lix[\"Growth Rate\"])).item(1)\n",
    "print(\"The correlation coefficient is\",r)\n",
    "print(\"The p-value is\",p_value)"
   ]
  }
 ],
 "metadata": {
  "kernelspec": {
   "display_name": "Python 3",
   "language": "python",
   "name": "python3"
  },
  "language_info": {
   "codemirror_mode": {
    "name": "ipython",
    "version": 3
   },
   "file_extension": ".py",
   "mimetype": "text/x-python",
   "name": "python",
   "nbconvert_exporter": "python",
   "pygments_lexer": "ipython3",
   "version": "3.6.2"
  }
 },
 "nbformat": 4,
 "nbformat_minor": 2
}
